{
 "cells": [
  {
   "cell_type": "markdown",
   "id": "1107f38b-f33f-4307-b75e-753dc34d965e",
   "metadata": {},
   "source": [
    "# Credit Risk Resampling"
   ]
  },
  {
   "cell_type": "code",
   "execution_count": 58,
   "id": "210fb011-79be-49aa-af61-0debb6283a8e",
   "metadata": {},
   "outputs": [],
   "source": [
    "# Import a library to ignore the warnings\n",
    "import warnings\n",
    "warnings.filterwarnings('ignore')"
   ]
  },
  {
   "cell_type": "code",
   "execution_count": 59,
   "id": "983ca559-dbc1-4deb-993f-161f2ce87609",
   "metadata": {},
   "outputs": [],
   "source": [
    "# Import the libraries we will be using for this assignment \n",
    "import numpy as np\n",
    "import pandas as pd\n",
    "from pathlib import Path\n",
    "from collections import Counter\n",
    "from sklearn.metrics import balanced_accuracy_score\n",
    "from sklearn.metrics import confusion_matrix\n",
    "from imblearn.metrics import classification_report_imbalanced"
   ]
  },
  {
   "cell_type": "markdown",
   "id": "3ed9596a-379e-4ace-bfb4-4ce8e1108d31",
   "metadata": {},
   "source": [
    "### Part Zero - Read in the CSV file I will use for my data "
   ]
  },
  {
   "cell_type": "code",
   "execution_count": 60,
   "id": "6a06a714-096e-49a3-957f-cddba32b81f2",
   "metadata": {},
   "outputs": [
    {
     "data": {
      "text/html": [
       "<div>\n",
       "<style scoped>\n",
       "    .dataframe tbody tr th:only-of-type {\n",
       "        vertical-align: middle;\n",
       "    }\n",
       "\n",
       "    .dataframe tbody tr th {\n",
       "        vertical-align: top;\n",
       "    }\n",
       "\n",
       "    .dataframe thead th {\n",
       "        text-align: right;\n",
       "    }\n",
       "</style>\n",
       "<table border=\"1\" class=\"dataframe\">\n",
       "  <thead>\n",
       "    <tr style=\"text-align: right;\">\n",
       "      <th></th>\n",
       "      <th>loan_size</th>\n",
       "      <th>interest_rate</th>\n",
       "      <th>homeowner</th>\n",
       "      <th>borrower_income</th>\n",
       "      <th>debt_to_income</th>\n",
       "      <th>num_of_accounts</th>\n",
       "      <th>derogatory_marks</th>\n",
       "      <th>total_debt</th>\n",
       "      <th>loan_status</th>\n",
       "    </tr>\n",
       "  </thead>\n",
       "  <tbody>\n",
       "    <tr>\n",
       "      <th>0</th>\n",
       "      <td>10700.0</td>\n",
       "      <td>7.672</td>\n",
       "      <td>own</td>\n",
       "      <td>52800</td>\n",
       "      <td>0.431818</td>\n",
       "      <td>5</td>\n",
       "      <td>1</td>\n",
       "      <td>22800</td>\n",
       "      <td>low_risk</td>\n",
       "    </tr>\n",
       "    <tr>\n",
       "      <th>1</th>\n",
       "      <td>8400.0</td>\n",
       "      <td>6.692</td>\n",
       "      <td>own</td>\n",
       "      <td>43600</td>\n",
       "      <td>0.311927</td>\n",
       "      <td>3</td>\n",
       "      <td>0</td>\n",
       "      <td>13600</td>\n",
       "      <td>low_risk</td>\n",
       "    </tr>\n",
       "    <tr>\n",
       "      <th>2</th>\n",
       "      <td>9000.0</td>\n",
       "      <td>6.963</td>\n",
       "      <td>rent</td>\n",
       "      <td>46100</td>\n",
       "      <td>0.349241</td>\n",
       "      <td>3</td>\n",
       "      <td>0</td>\n",
       "      <td>16100</td>\n",
       "      <td>low_risk</td>\n",
       "    </tr>\n",
       "    <tr>\n",
       "      <th>3</th>\n",
       "      <td>10700.0</td>\n",
       "      <td>7.664</td>\n",
       "      <td>own</td>\n",
       "      <td>52700</td>\n",
       "      <td>0.430740</td>\n",
       "      <td>5</td>\n",
       "      <td>1</td>\n",
       "      <td>22700</td>\n",
       "      <td>low_risk</td>\n",
       "    </tr>\n",
       "    <tr>\n",
       "      <th>4</th>\n",
       "      <td>10800.0</td>\n",
       "      <td>7.698</td>\n",
       "      <td>mortgage</td>\n",
       "      <td>53000</td>\n",
       "      <td>0.433962</td>\n",
       "      <td>5</td>\n",
       "      <td>1</td>\n",
       "      <td>23000</td>\n",
       "      <td>low_risk</td>\n",
       "    </tr>\n",
       "    <tr>\n",
       "      <th>5</th>\n",
       "      <td>10100.0</td>\n",
       "      <td>7.438</td>\n",
       "      <td>mortgage</td>\n",
       "      <td>50600</td>\n",
       "      <td>0.407115</td>\n",
       "      <td>4</td>\n",
       "      <td>1</td>\n",
       "      <td>20600</td>\n",
       "      <td>low_risk</td>\n",
       "    </tr>\n",
       "    <tr>\n",
       "      <th>6</th>\n",
       "      <td>10300.0</td>\n",
       "      <td>7.490</td>\n",
       "      <td>mortgage</td>\n",
       "      <td>51100</td>\n",
       "      <td>0.412916</td>\n",
       "      <td>4</td>\n",
       "      <td>1</td>\n",
       "      <td>21100</td>\n",
       "      <td>low_risk</td>\n",
       "    </tr>\n",
       "    <tr>\n",
       "      <th>7</th>\n",
       "      <td>8800.0</td>\n",
       "      <td>6.857</td>\n",
       "      <td>mortgage</td>\n",
       "      <td>45100</td>\n",
       "      <td>0.334812</td>\n",
       "      <td>3</td>\n",
       "      <td>0</td>\n",
       "      <td>15100</td>\n",
       "      <td>low_risk</td>\n",
       "    </tr>\n",
       "    <tr>\n",
       "      <th>8</th>\n",
       "      <td>9300.0</td>\n",
       "      <td>7.096</td>\n",
       "      <td>own</td>\n",
       "      <td>47400</td>\n",
       "      <td>0.367089</td>\n",
       "      <td>3</td>\n",
       "      <td>0</td>\n",
       "      <td>17400</td>\n",
       "      <td>low_risk</td>\n",
       "    </tr>\n",
       "    <tr>\n",
       "      <th>9</th>\n",
       "      <td>9700.0</td>\n",
       "      <td>7.248</td>\n",
       "      <td>rent</td>\n",
       "      <td>48800</td>\n",
       "      <td>0.385246</td>\n",
       "      <td>4</td>\n",
       "      <td>0</td>\n",
       "      <td>18800</td>\n",
       "      <td>low_risk</td>\n",
       "    </tr>\n",
       "  </tbody>\n",
       "</table>\n",
       "</div>"
      ],
      "text/plain": [
       "   loan_size  interest_rate homeowner  borrower_income  debt_to_income  \\\n",
       "0    10700.0          7.672       own            52800        0.431818   \n",
       "1     8400.0          6.692       own            43600        0.311927   \n",
       "2     9000.0          6.963      rent            46100        0.349241   \n",
       "3    10700.0          7.664       own            52700        0.430740   \n",
       "4    10800.0          7.698  mortgage            53000        0.433962   \n",
       "5    10100.0          7.438  mortgage            50600        0.407115   \n",
       "6    10300.0          7.490  mortgage            51100        0.412916   \n",
       "7     8800.0          6.857  mortgage            45100        0.334812   \n",
       "8     9300.0          7.096       own            47400        0.367089   \n",
       "9     9700.0          7.248      rent            48800        0.385246   \n",
       "\n",
       "   num_of_accounts  derogatory_marks  total_debt loan_status  \n",
       "0                5                 1       22800    low_risk  \n",
       "1                3                 0       13600    low_risk  \n",
       "2                3                 0       16100    low_risk  \n",
       "3                5                 1       22700    low_risk  \n",
       "4                5                 1       23000    low_risk  \n",
       "5                4                 1       20600    low_risk  \n",
       "6                4                 1       21100    low_risk  \n",
       "7                3                 0       15100    low_risk  \n",
       "8                3                 0       17400    low_risk  \n",
       "9                4                 0       18800    low_risk  "
      ]
     },
     "execution_count": 60,
     "metadata": {},
     "output_type": "execute_result"
    }
   ],
   "source": [
    "# Load the data from the CSV file \n",
    "csv_path = Path('/Users/cg/Documents/FinTech_Bootcamp/[Unit_11]Machine_Learning/[Homework]Risky_Buisness/Lending_Data.csv')\n",
    "ld_df = pd.read_csv(csv_path)\n",
    "ld_df.head(10)"
   ]
  },
  {
   "cell_type": "code",
   "execution_count": 61,
   "id": "b46caea1-bd31-4adc-a1d3-603e2576e161",
   "metadata": {},
   "outputs": [],
   "source": [
    "# Replace the strings from 'homeowner' with binary data\n",
    "ld_df = pd.get_dummies(ld_df, columns=['homeowner'])"
   ]
  },
  {
   "cell_type": "code",
   "execution_count": 62,
   "id": "91aeb57c-8970-418a-acbf-bd2098c1c616",
   "metadata": {},
   "outputs": [
    {
     "data": {
      "text/html": [
       "<div>\n",
       "<style scoped>\n",
       "    .dataframe tbody tr th:only-of-type {\n",
       "        vertical-align: middle;\n",
       "    }\n",
       "\n",
       "    .dataframe tbody tr th {\n",
       "        vertical-align: top;\n",
       "    }\n",
       "\n",
       "    .dataframe thead th {\n",
       "        text-align: right;\n",
       "    }\n",
       "</style>\n",
       "<table border=\"1\" class=\"dataframe\">\n",
       "  <thead>\n",
       "    <tr style=\"text-align: right;\">\n",
       "      <th></th>\n",
       "      <th>loan_size</th>\n",
       "      <th>interest_rate</th>\n",
       "      <th>borrower_income</th>\n",
       "      <th>debt_to_income</th>\n",
       "      <th>num_of_accounts</th>\n",
       "      <th>derogatory_marks</th>\n",
       "      <th>total_debt</th>\n",
       "      <th>loan_status</th>\n",
       "      <th>homeowner_mortgage</th>\n",
       "      <th>homeowner_own</th>\n",
       "      <th>homeowner_rent</th>\n",
       "    </tr>\n",
       "  </thead>\n",
       "  <tbody>\n",
       "    <tr>\n",
       "      <th>0</th>\n",
       "      <td>10700.0</td>\n",
       "      <td>7.672</td>\n",
       "      <td>52800</td>\n",
       "      <td>0.431818</td>\n",
       "      <td>5</td>\n",
       "      <td>1</td>\n",
       "      <td>22800</td>\n",
       "      <td>low_risk</td>\n",
       "      <td>0</td>\n",
       "      <td>1</td>\n",
       "      <td>0</td>\n",
       "    </tr>\n",
       "    <tr>\n",
       "      <th>1</th>\n",
       "      <td>8400.0</td>\n",
       "      <td>6.692</td>\n",
       "      <td>43600</td>\n",
       "      <td>0.311927</td>\n",
       "      <td>3</td>\n",
       "      <td>0</td>\n",
       "      <td>13600</td>\n",
       "      <td>low_risk</td>\n",
       "      <td>0</td>\n",
       "      <td>1</td>\n",
       "      <td>0</td>\n",
       "    </tr>\n",
       "    <tr>\n",
       "      <th>2</th>\n",
       "      <td>9000.0</td>\n",
       "      <td>6.963</td>\n",
       "      <td>46100</td>\n",
       "      <td>0.349241</td>\n",
       "      <td>3</td>\n",
       "      <td>0</td>\n",
       "      <td>16100</td>\n",
       "      <td>low_risk</td>\n",
       "      <td>0</td>\n",
       "      <td>0</td>\n",
       "      <td>1</td>\n",
       "    </tr>\n",
       "    <tr>\n",
       "      <th>3</th>\n",
       "      <td>10700.0</td>\n",
       "      <td>7.664</td>\n",
       "      <td>52700</td>\n",
       "      <td>0.430740</td>\n",
       "      <td>5</td>\n",
       "      <td>1</td>\n",
       "      <td>22700</td>\n",
       "      <td>low_risk</td>\n",
       "      <td>0</td>\n",
       "      <td>1</td>\n",
       "      <td>0</td>\n",
       "    </tr>\n",
       "    <tr>\n",
       "      <th>4</th>\n",
       "      <td>10800.0</td>\n",
       "      <td>7.698</td>\n",
       "      <td>53000</td>\n",
       "      <td>0.433962</td>\n",
       "      <td>5</td>\n",
       "      <td>1</td>\n",
       "      <td>23000</td>\n",
       "      <td>low_risk</td>\n",
       "      <td>1</td>\n",
       "      <td>0</td>\n",
       "      <td>0</td>\n",
       "    </tr>\n",
       "    <tr>\n",
       "      <th>5</th>\n",
       "      <td>10100.0</td>\n",
       "      <td>7.438</td>\n",
       "      <td>50600</td>\n",
       "      <td>0.407115</td>\n",
       "      <td>4</td>\n",
       "      <td>1</td>\n",
       "      <td>20600</td>\n",
       "      <td>low_risk</td>\n",
       "      <td>1</td>\n",
       "      <td>0</td>\n",
       "      <td>0</td>\n",
       "    </tr>\n",
       "    <tr>\n",
       "      <th>6</th>\n",
       "      <td>10300.0</td>\n",
       "      <td>7.490</td>\n",
       "      <td>51100</td>\n",
       "      <td>0.412916</td>\n",
       "      <td>4</td>\n",
       "      <td>1</td>\n",
       "      <td>21100</td>\n",
       "      <td>low_risk</td>\n",
       "      <td>1</td>\n",
       "      <td>0</td>\n",
       "      <td>0</td>\n",
       "    </tr>\n",
       "    <tr>\n",
       "      <th>7</th>\n",
       "      <td>8800.0</td>\n",
       "      <td>6.857</td>\n",
       "      <td>45100</td>\n",
       "      <td>0.334812</td>\n",
       "      <td>3</td>\n",
       "      <td>0</td>\n",
       "      <td>15100</td>\n",
       "      <td>low_risk</td>\n",
       "      <td>1</td>\n",
       "      <td>0</td>\n",
       "      <td>0</td>\n",
       "    </tr>\n",
       "    <tr>\n",
       "      <th>8</th>\n",
       "      <td>9300.0</td>\n",
       "      <td>7.096</td>\n",
       "      <td>47400</td>\n",
       "      <td>0.367089</td>\n",
       "      <td>3</td>\n",
       "      <td>0</td>\n",
       "      <td>17400</td>\n",
       "      <td>low_risk</td>\n",
       "      <td>0</td>\n",
       "      <td>1</td>\n",
       "      <td>0</td>\n",
       "    </tr>\n",
       "    <tr>\n",
       "      <th>9</th>\n",
       "      <td>9700.0</td>\n",
       "      <td>7.248</td>\n",
       "      <td>48800</td>\n",
       "      <td>0.385246</td>\n",
       "      <td>4</td>\n",
       "      <td>0</td>\n",
       "      <td>18800</td>\n",
       "      <td>low_risk</td>\n",
       "      <td>0</td>\n",
       "      <td>0</td>\n",
       "      <td>1</td>\n",
       "    </tr>\n",
       "  </tbody>\n",
       "</table>\n",
       "</div>"
      ],
      "text/plain": [
       "   loan_size  interest_rate  borrower_income  debt_to_income  num_of_accounts  \\\n",
       "0    10700.0          7.672            52800        0.431818                5   \n",
       "1     8400.0          6.692            43600        0.311927                3   \n",
       "2     9000.0          6.963            46100        0.349241                3   \n",
       "3    10700.0          7.664            52700        0.430740                5   \n",
       "4    10800.0          7.698            53000        0.433962                5   \n",
       "5    10100.0          7.438            50600        0.407115                4   \n",
       "6    10300.0          7.490            51100        0.412916                4   \n",
       "7     8800.0          6.857            45100        0.334812                3   \n",
       "8     9300.0          7.096            47400        0.367089                3   \n",
       "9     9700.0          7.248            48800        0.385246                4   \n",
       "\n",
       "   derogatory_marks  total_debt loan_status  homeowner_mortgage  \\\n",
       "0                 1       22800    low_risk                   0   \n",
       "1                 0       13600    low_risk                   0   \n",
       "2                 0       16100    low_risk                   0   \n",
       "3                 1       22700    low_risk                   0   \n",
       "4                 1       23000    low_risk                   1   \n",
       "5                 1       20600    low_risk                   1   \n",
       "6                 1       21100    low_risk                   1   \n",
       "7                 0       15100    low_risk                   1   \n",
       "8                 0       17400    low_risk                   0   \n",
       "9                 0       18800    low_risk                   0   \n",
       "\n",
       "   homeowner_own  homeowner_rent  \n",
       "0              1               0  \n",
       "1              1               0  \n",
       "2              0               1  \n",
       "3              1               0  \n",
       "4              0               0  \n",
       "5              0               0  \n",
       "6              0               0  \n",
       "7              0               0  \n",
       "8              1               0  \n",
       "9              0               1  "
      ]
     },
     "execution_count": 62,
     "metadata": {},
     "output_type": "execute_result"
    }
   ],
   "source": [
    "# Check the new data frame to make sure I replaced the strings\n",
    "ld_df.head(10)\n",
    "\n",
    "# Loan status is fine to remain a string for now - will be replaced later"
   ]
  },
  {
   "cell_type": "markdown",
   "id": "07184aa8-743a-4982-8e96-9741ad23965e",
   "metadata": {},
   "source": [
    "### Part Two - Spliting the Data into Training and Testing"
   ]
  },
  {
   "cell_type": "code",
   "execution_count": 63,
   "id": "487765d5-959c-49ee-8fd9-f373a75e66e3",
   "metadata": {},
   "outputs": [],
   "source": [
    "# Create my features\n",
    "x_feat = ld_df.drop(columns=['loan_status'])\n",
    "\n",
    "# Create my target\n",
    "y_feat = ld_df['loan_status']"
   ]
  },
  {
   "cell_type": "code",
   "execution_count": 64,
   "id": "c37e9f11-6994-4dc0-b739-be5b5b5d58e6",
   "metadata": {},
   "outputs": [
    {
     "data": {
      "text/plain": [
       "low_risk     75036\n",
       "high_risk     2500\n",
       "Name: loan_status, dtype: int64"
      ]
     },
     "execution_count": 64,
     "metadata": {},
     "output_type": "execute_result"
    }
   ],
   "source": [
    "# Check the quantities of the target values - 'loan_status'\n",
    "y_feat.value_counts()"
   ]
  },
  {
   "cell_type": "code",
   "execution_count": 67,
   "id": "56a7e8dc-e088-4060-8f33-5d73f8627882",
   "metadata": {},
   "outputs": [
    {
     "data": {
      "text/plain": [
       "(58152, 10)"
      ]
     },
     "execution_count": 67,
     "metadata": {},
     "output_type": "execute_result"
    }
   ],
   "source": [
    "# Import the library I need for the training and test split\n",
    "from sklearn.model_selection import train_test_split\n",
    "\n",
    "# Create the X_train, X_test, y_train, & y_test\n",
    "x_train, x_test, y_train, y_test= train_test_split(x_feat, y_feat, random_state=1)\n",
    "\n",
    "# Display the shape of my X_train set\n",
    "x_train.shape"
   ]
  },
  {
   "cell_type": "code",
   "execution_count": 68,
   "id": "5e52d792-0d95-4bd5-a36b-86cf0f7e802f",
   "metadata": {},
   "outputs": [
    {
     "data": {
      "text/plain": [
       "Counter({'low_risk': 56271, 'high_risk': 1881})"
      ]
     },
     "execution_count": 68,
     "metadata": {},
     "output_type": "execute_result"
    }
   ],
   "source": [
    "# View the amounts of low & high risks \n",
    "Counter(y_train)"
   ]
  },
  {
   "cell_type": "markdown",
   "id": "2fe494fa-75b4-4e57-b70c-e5cc28f68fc7",
   "metadata": {},
   "source": [
    "### Part Three - Data Pre-Processing "
   ]
  },
  {
   "cell_type": "markdown",
   "id": "d9844449-37f8-4fcf-a0cc-ffd1fcdc79fd",
   "metadata": {},
   "source": [
    "##### Scale the training and testing data using the ***StandardScaler*** from ***SciKit-Learn***. Remember that when scaling the data, you only scale the features data (***X_train*** and ***X_testing***)."
   ]
  },
  {
   "cell_type": "code",
   "execution_count": 17,
   "id": "f509375e-e23c-4a0e-9e2d-9909cfc8feff",
   "metadata": {},
   "outputs": [],
   "source": [
    "# Import the library for the StandardScaler instance\n",
    "from sklearn.preprocessing import StandardScaler\n",
    "\n",
    "# Create the StandardScaler instance\n",
    "scaler = StandardScaler()"
   ]
  },
  {
   "cell_type": "code",
   "execution_count": 69,
   "id": "d14f1b20-eb12-4a84-a5fe-5ef0646892ee",
   "metadata": {},
   "outputs": [],
   "source": [
    "# Fit the Standard Scaler with the training data\n",
    "\n",
    "# When fitting scaling functions, only train on the training dataset\n",
    "x_scaler = scaler.fit(x_train)"
   ]
  },
  {
   "cell_type": "code",
   "execution_count": 70,
   "id": "e4ae8cd5-43ac-40a0-ab20-c1f1b71ce37c",
   "metadata": {},
   "outputs": [],
   "source": [
    "# Scale both the training and testing data\n",
    "x_train_scaled = scaler.transform(x_train)\n",
    "x_test_scaled = scaler.transform(x_test)"
   ]
  },
  {
   "cell_type": "markdown",
   "id": "d8c73011-ab24-45df-a66b-14e4b6f89f9d",
   "metadata": {},
   "source": [
    "### Part Four - Simple Logistic Regression"
   ]
  },
  {
   "cell_type": "code",
   "execution_count": 71,
   "id": "33294017-b03f-41ee-9a2c-e14458270d9b",
   "metadata": {},
   "outputs": [
    {
     "data": {
      "text/plain": [
       "LogisticRegression(random_state=1)"
      ]
     },
     "execution_count": 71,
     "metadata": {},
     "output_type": "execute_result"
    }
   ],
   "source": [
    "# Import the library I need for Logistic Regression\n",
    "from sklearn.linear_model import LogisticRegression\n",
    "\n",
    "#Train the Simple Logistic Regression using train data\n",
    "slr_model = LogisticRegression(solver='lbfgs', random_state=1)\n",
    "\n",
    "# Fit the model\n",
    "slr_model.fit(x_train_scaled, y_train)"
   ]
  },
  {
   "cell_type": "code",
   "execution_count": 72,
   "id": "7b832015-a1cb-461e-a58e-6568dcc06769",
   "metadata": {},
   "outputs": [
    {
     "name": "stdout",
     "output_type": "stream",
     "text": [
      " The Balanced Accuracy Score is : 0.9889115309798473\n"
     ]
    }
   ],
   "source": [
    "# Predict the model\n",
    "slr_y_predict = slr_model.predict(x_test_scaled)\n",
    "\n",
    "# Calculated the balanced accuracy score\n",
    "slr_bas = balanced_accuracy_score(y_test, slr_y_predict)\n",
    "\n",
    "# View the BAS \n",
    "print(f\" The Balanced Accuracy Score is : {slr_bas}\")\n"
   ]
  },
  {
   "cell_type": "code",
   "execution_count": 74,
   "id": "1a00f2e6-2c4e-467d-9047-9a15f58efd97",
   "metadata": {},
   "outputs": [
    {
     "data": {
      "text/html": [
       "<div>\n",
       "<style scoped>\n",
       "    .dataframe tbody tr th:only-of-type {\n",
       "        vertical-align: middle;\n",
       "    }\n",
       "\n",
       "    .dataframe tbody tr th {\n",
       "        vertical-align: top;\n",
       "    }\n",
       "\n",
       "    .dataframe thead th {\n",
       "        text-align: right;\n",
       "    }\n",
       "</style>\n",
       "<table border=\"1\" class=\"dataframe\">\n",
       "  <thead>\n",
       "    <tr style=\"text-align: right;\">\n",
       "      <th></th>\n",
       "      <th>Predicted 0</th>\n",
       "      <th>Predicted 1</th>\n",
       "    </tr>\n",
       "  </thead>\n",
       "  <tbody>\n",
       "    <tr>\n",
       "      <th>Actual 0</th>\n",
       "      <td>609</td>\n",
       "      <td>10</td>\n",
       "    </tr>\n",
       "    <tr>\n",
       "      <th>Actual 1</th>\n",
       "      <td>113</td>\n",
       "      <td>18652</td>\n",
       "    </tr>\n",
       "  </tbody>\n",
       "</table>\n",
       "</div>"
      ],
      "text/plain": [
       "          Predicted 0  Predicted 1\n",
       "Actual 0          609           10\n",
       "Actual 1          113        18652"
      ]
     },
     "metadata": {},
     "output_type": "display_data"
    }
   ],
   "source": [
    "# Create the SLR Confusion Matrix\n",
    "slr_cm = confusion_matrix(y_test, slr_y_pred)\n",
    "slr_cm_df = pd.DataFrame(\n",
    "    slr_cm, index=[\"Actual 0\", \"Actual 1\"],\n",
    "    columns=[\"Predicted 0\", \"Predicted 1\"])\n",
    "\n",
    "# Display the SLR Confusion Matrix\n",
    "display(slr_cm_df)"
   ]
  },
  {
   "cell_type": "code",
   "execution_count": 75,
   "id": "e77bf3c6-f494-40de-a289-30fb9c169f89",
   "metadata": {},
   "outputs": [
    {
     "name": "stdout",
     "output_type": "stream",
     "text": [
      "This is the Classification Report:\n",
      "\n",
      "                   pre       rec       spe        f1       geo       iba       sup\n",
      "\n",
      "  high_risk       0.84      0.98      0.99      0.91      0.99      0.98       619\n",
      "   low_risk       1.00      0.99      0.98      1.00      0.99      0.98     18765\n",
      "\n",
      "avg / total       0.99      0.99      0.98      0.99      0.99      0.98     19384\n",
      "\n"
     ]
    }
   ],
   "source": [
    "# Show the imbalanced classification report\n",
    "print(\"This is the Classification Report:\")\n",
    "...\n",
    "print(\"\")\n",
    "...\n",
    "print(classification_report_imbalanced(y_test, slr_y_predict))"
   ]
  },
  {
   "cell_type": "markdown",
   "id": "5c83b809-a645-4b71-854c-2a0d3774e8ab",
   "metadata": {},
   "source": [
    "### Part Five - Oversampling "
   ]
  },
  {
   "cell_type": "markdown",
   "id": "4fb4dda4-43d5-4d2e-8c72-2cc594de8074",
   "metadata": {},
   "source": [
    "##### In this section, you will compare two oversampling algorithms to determine which algorithm results in the best performance. You will oversample the data using the naive random oversampling algorithm and the SMOTE algorithm. For each algorithm, be sure to complete the folliowing steps:\n",
    "\n",
    "1. View the count of the target classes using ***Counter*** from the collections library. \n",
    "3. Use the resampled data to train a logistic regression model.\n",
    "3. Calculate the balanced accuracy score from sklearn.metrics.\n",
    "4. Print the confusion matrix from sklearn.metrics.\n",
    "5. Generate a classication report using the ***imbalanced_classification_report*** from imbalanced-learn."
   ]
  },
  {
   "cell_type": "markdown",
   "id": "3e4f3c39-93e2-4423-ab0b-28a53af1203a",
   "metadata": {},
   "source": [
    "#### Naive Random Oversampling"
   ]
  },
  {
   "cell_type": "code",
   "execution_count": 76,
   "id": "ca75e5bf-8301-40d1-8df7-f67ca00296e2",
   "metadata": {},
   "outputs": [
    {
     "data": {
      "text/plain": [
       "Counter({'low_risk': 56271, 'high_risk': 56271})"
      ]
     },
     "execution_count": 76,
     "metadata": {},
     "output_type": "execute_result"
    }
   ],
   "source": [
    "# Import the library needed for Random Over-Sampling \n",
    "from imblearn.over_sampling import RandomOverSampler\n",
    "\n",
    "# Resample the training data with the RandomOversampler\n",
    "ros = RandomOverSampler(random_state=1)\n",
    "ros_x_resampled, ros_y_resampled = ros.fit_resample(x_train_scaled, y_train)\n",
    "\n",
    "\n",
    "# View the amount of target classes with Counter - the amount should now be equal\n",
    "Counter(ros_y_resampled)"
   ]
  },
  {
   "cell_type": "code",
   "execution_count": 77,
   "id": "9381b8c8-11d9-4bdf-b150-576c06d5f0ec",
   "metadata": {},
   "outputs": [
    {
     "data": {
      "text/plain": [
       "LogisticRegression(random_state=1)"
      ]
     },
     "execution_count": 77,
     "metadata": {},
     "output_type": "execute_result"
    }
   ],
   "source": [
    "# Train the Logistic Regression model using the resampled data - set the random state always to 1\n",
    "ros_model = LogisticRegression(solver='lbfgs', random_state=1)\n",
    "\n",
    "# Fit the model\n",
    "ros_model.fit(ros_x_resampled, ros_y_resampled)"
   ]
  },
  {
   "cell_type": "code",
   "execution_count": 78,
   "id": "72c05158-bc4f-4615-83a6-7fa04c1c5520",
   "metadata": {},
   "outputs": [
    {
     "name": "stdout",
     "output_type": "stream",
     "text": [
      "The Balanced Accuracy Score is : 0.9934649587814939\n"
     ]
    }
   ],
   "source": [
    "# Create the predictions from the model\n",
    "ros_y_predict = ros_model.predict(x_test_scaled)\n",
    "\n",
    "# Calculate the BAS\n",
    "ros_bas = balanced_accuracy_score(y_test, ros_y_predict)\n",
    "\n",
    "# Display the BAS \n",
    "print(f\"The Balanced Accuracy Score is : {ros_bas}\")"
   ]
  },
  {
   "cell_type": "code",
   "execution_count": 79,
   "id": "2d63a360-383b-4c6e-9eaf-efb1635c3dce",
   "metadata": {},
   "outputs": [
    {
     "data": {
      "text/html": [
       "<div>\n",
       "<style scoped>\n",
       "    .dataframe tbody tr th:only-of-type {\n",
       "        vertical-align: middle;\n",
       "    }\n",
       "\n",
       "    .dataframe tbody tr th {\n",
       "        vertical-align: top;\n",
       "    }\n",
       "\n",
       "    .dataframe thead th {\n",
       "        text-align: right;\n",
       "    }\n",
       "</style>\n",
       "<table border=\"1\" class=\"dataframe\">\n",
       "  <thead>\n",
       "    <tr style=\"text-align: right;\">\n",
       "      <th></th>\n",
       "      <th>Predicted 0</th>\n",
       "      <th>Predicted 1</th>\n",
       "    </tr>\n",
       "  </thead>\n",
       "  <tbody>\n",
       "    <tr>\n",
       "      <th>Actual 0</th>\n",
       "      <td>615</td>\n",
       "      <td>4</td>\n",
       "    </tr>\n",
       "    <tr>\n",
       "      <th>Actual 1</th>\n",
       "      <td>124</td>\n",
       "      <td>18641</td>\n",
       "    </tr>\n",
       "  </tbody>\n",
       "</table>\n",
       "</div>"
      ],
      "text/plain": [
       "          Predicted 0  Predicted 1\n",
       "Actual 0          615            4\n",
       "Actual 1          124        18641"
      ]
     },
     "metadata": {},
     "output_type": "display_data"
    }
   ],
   "source": [
    "# Create the confusion matrix \n",
    "ros_cm = confusion_matrix(y_test, ros_y_pred)\n",
    "ros_cm_df = pd.DataFrame(\n",
    "    ros_cm, index=[\"Actual 0\", \"Actual 1\"],\n",
    "    columns=[\"Predicted 0\", \"Predicted 1\"])\n",
    "\n",
    "# Display the confusion matrix\n",
    "display(ros_cm_df)"
   ]
  },
  {
   "cell_type": "code",
   "execution_count": 80,
   "id": "9b180415-63e9-4eb1-90bb-8b2f98742f43",
   "metadata": {},
   "outputs": [
    {
     "name": "stdout",
     "output_type": "stream",
     "text": [
      "Classification Report\n",
      "\n",
      "                   pre       rec       spe        f1       geo       iba       sup\n",
      "\n",
      "  high_risk       0.83      0.99      0.99      0.91      0.99      0.99       619\n",
      "   low_risk       1.00      0.99      0.99      1.00      0.99      0.99     18765\n",
      "\n",
      "avg / total       0.99      0.99      0.99      0.99      0.99      0.99     19384\n",
      "\n"
     ]
    }
   ],
   "source": [
    "# Display the imbalanced classification report\n",
    "print(\"Classification Report\")\n",
    "...\n",
    "print(\"\")\n",
    "...\n",
    "print(classification_report_imbalanced(y_test, ros_y_predict))"
   ]
  },
  {
   "cell_type": "markdown",
   "id": "daeed7c8-20fd-4a81-a899-52c57192171b",
   "metadata": {},
   "source": [
    "#### Synthetic Minority Oversampling Technique (SMOTE) Oversampling"
   ]
  },
  {
   "cell_type": "code",
   "execution_count": 81,
   "id": "1a3f6b8c-5b5b-4be2-bc62-db0159c20422",
   "metadata": {},
   "outputs": [
    {
     "data": {
      "text/plain": [
       "Counter({'low_risk': 56271, 'high_risk': 56271})"
      ]
     },
     "execution_count": 81,
     "metadata": {},
     "output_type": "execute_result"
    }
   ],
   "source": [
    "# Import the library needed for the SMOTE\n",
    "from imblearn.over_sampling import SMOTE\n",
    "\n",
    "# Resample the training data with SMOTE - again set the random state to one\n",
    "smote_x_resampled, smote_y_resampled = SMOTE(random_state=1, sampling_strategy=1.0).fit_resample(x_train_scaled, y_train)\n",
    "\n",
    "# View the amount of target classes with Counter - they should now be equal\n",
    "Counter(smote_y_resampled)"
   ]
  },
  {
   "cell_type": "code",
   "execution_count": 82,
   "id": "9079e306-0bfe-4457-bd62-2402ff7932d7",
   "metadata": {},
   "outputs": [
    {
     "data": {
      "text/plain": [
       "LogisticRegression(random_state=1)"
      ]
     },
     "execution_count": 82,
     "metadata": {},
     "output_type": "execute_result"
    }
   ],
   "source": [
    "# Train the Logistic Regression model using the resampled data\n",
    "smote_model = LogisticRegression(solver='lbfgs', random_state=1)\n",
    "\n",
    "# Fit the model\n",
    "smote_model.fit(smote_x_resampled, smote_y_resampled)"
   ]
  },
  {
   "cell_type": "code",
   "execution_count": 83,
   "id": "f1f5bf94-cb23-48cb-a87b-088f764b84bc",
   "metadata": {},
   "outputs": [
    {
     "name": "stdout",
     "output_type": "stream",
     "text": [
      "The Balanced Accuracy Score is : 0.9934649587814939\n"
     ]
    }
   ],
   "source": [
    "# Use the model to make predictions\n",
    "smote_y_predict = smote_model.predict(x_test_scaled)\n",
    "\n",
    "# Calculate the Balanced Accuracy Score\n",
    "smote_bas = balanced_accuracy_score(y_test, smote_y_predict)\n",
    "\n",
    "# Display the BAS\n",
    "print(f\"The Balanced Accuracy Score is : {smote_bas}\")"
   ]
  },
  {
   "cell_type": "code",
   "execution_count": 84,
   "id": "57985ed0-9d0d-4ac1-82bb-f78762e1b043",
   "metadata": {},
   "outputs": [
    {
     "data": {
      "text/html": [
       "<div>\n",
       "<style scoped>\n",
       "    .dataframe tbody tr th:only-of-type {\n",
       "        vertical-align: middle;\n",
       "    }\n",
       "\n",
       "    .dataframe tbody tr th {\n",
       "        vertical-align: top;\n",
       "    }\n",
       "\n",
       "    .dataframe thead th {\n",
       "        text-align: right;\n",
       "    }\n",
       "</style>\n",
       "<table border=\"1\" class=\"dataframe\">\n",
       "  <thead>\n",
       "    <tr style=\"text-align: right;\">\n",
       "      <th></th>\n",
       "      <th>Predicted 0</th>\n",
       "      <th>Predicted 1</th>\n",
       "    </tr>\n",
       "  </thead>\n",
       "  <tbody>\n",
       "    <tr>\n",
       "      <th>Actual 0</th>\n",
       "      <td>615</td>\n",
       "      <td>4</td>\n",
       "    </tr>\n",
       "    <tr>\n",
       "      <th>Actual 1</th>\n",
       "      <td>124</td>\n",
       "      <td>18641</td>\n",
       "    </tr>\n",
       "  </tbody>\n",
       "</table>\n",
       "</div>"
      ],
      "text/plain": [
       "          Predicted 0  Predicted 1\n",
       "Actual 0          615            4\n",
       "Actual 1          124        18641"
      ]
     },
     "metadata": {},
     "output_type": "display_data"
    }
   ],
   "source": [
    "# Create the confusion matrix for this model\n",
    "smote_cm = confusion_matrix(y_test, smote_y_predict)\n",
    "smote_cm_df = pd.DataFrame(\n",
    "    smote_cm, index=[\"Actual 0\", \"Actual 1\"],\n",
    "    columns=[\"Predicted 0\", \"Predicted 1\"])\n",
    "\n",
    "# Display the confusion matrix\n",
    "display(smote_cm_df)"
   ]
  },
  {
   "cell_type": "code",
   "execution_count": 85,
   "id": "91c0973c-d02c-4707-9d46-7cd7075e8f5a",
   "metadata": {},
   "outputs": [
    {
     "name": "stdout",
     "output_type": "stream",
     "text": [
      "Classification Report\n",
      "\n",
      "                   pre       rec       spe        f1       geo       iba       sup\n",
      "\n",
      "  high_risk       0.83      0.99      0.99      0.91      0.99      0.99       619\n",
      "   low_risk       1.00      0.99      0.99      1.00      0.99      0.99     18765\n",
      "\n",
      "avg / total       0.99      0.99      0.99      0.99      0.99      0.99     19384\n",
      "\n"
     ]
    }
   ],
   "source": [
    "# Display the imbalanced classification report\n",
    "print(\"Classification Report\")\n",
    "...\n",
    "print(\"\")\n",
    "...\n",
    "print(classification_report_imbalanced(y_test, smote_y_predict))"
   ]
  },
  {
   "cell_type": "markdown",
   "id": "fa3bfeda-9cf1-43a7-aa3e-5534fd9c08b9",
   "metadata": {},
   "source": [
    "### Part Six - Undersampling"
   ]
  },
  {
   "cell_type": "markdown",
   "id": "b8fd3cd1-8dea-4b0a-b372-c28d6ee4646e",
   "metadata": {},
   "source": [
    "##### In this section, you will test an undersampling algorithm to determine which algorithm results in the best performance compared to the oversampling algorithms above. You will undersample the data using the Cluster Centroids algorithm and complete the folliowing steps:\n",
    "\n",
    "1. View the count of the target classes using ***Counter*** from the collections library. \n",
    "3. Use the resampled data to train a logistic regression model.\n",
    "3. Calculate the balanced accuracy score from sklearn.metrics.\n",
    "4. Display the confusion matrix from sklearn.metrics.\n",
    "5. Generate a classication report using the ***imbalanced_classification_report*** from imbalanced-learn."
   ]
  },
  {
   "cell_type": "code",
   "execution_count": 86,
   "id": "594dc9c4-40e5-478e-8c00-0541429e41d7",
   "metadata": {},
   "outputs": [
    {
     "data": {
      "text/plain": [
       "Counter({'high_risk': 1881, 'low_risk': 1881})"
      ]
     },
     "execution_count": 86,
     "metadata": {},
     "output_type": "execute_result"
    }
   ],
   "source": [
    "# Load in the library needed for undersampling\n",
    "from imblearn.under_sampling import ClusterCentroids\n",
    "\n",
    "# Resample the data using the ClusterCentroids resampler\n",
    "cc = ClusterCentroids(random_state=1)\n",
    "cc_x_resampled, cc_y_resampled = cc.fit_resample(x_train_scaled, y_train)\n",
    "\n",
    "# View the amount of target classes with Counter - they should now be equal\n",
    "Counter(cc_y_resampled)"
   ]
  },
  {
   "cell_type": "code",
   "execution_count": 87,
   "id": "6c7bc316-fb04-433e-ba97-7cddfaee299f",
   "metadata": {},
   "outputs": [
    {
     "data": {
      "text/plain": [
       "LogisticRegression(random_state=1)"
      ]
     },
     "execution_count": 87,
     "metadata": {},
     "output_type": "execute_result"
    }
   ],
   "source": [
    "# Train the Logistic Regression model using the resampled data - set the random state to one \n",
    "cc_model = LogisticRegression(solver='lbfgs', random_state=1)\n",
    "\n",
    "# Fit the model\n",
    "cc_model.fit(cc_x_resampled, cc_y_resampled)"
   ]
  },
  {
   "cell_type": "code",
   "execution_count": 88,
   "id": "691369d7-12f4-4b77-a99e-324c17bd8c85",
   "metadata": {},
   "outputs": [
    {
     "name": "stdout",
     "output_type": "stream",
     "text": [
      "The Balanced Accuracy Score is : 0.9929503031930944\n"
     ]
    }
   ],
   "source": [
    "# Have the model predict\n",
    "cc_y_predict = cc_model.predict(x_test_scaled)\n",
    "\n",
    "# Calculate the balanced accuracy score\n",
    "cc_bas = balanced_accuracy_score(y_test, cc_y_predict)\n",
    "\n",
    "# Display the BAS\n",
    "print(f\"The Balanced Accuracy Score is : {cc_bas}\")"
   ]
  },
  {
   "cell_type": "code",
   "execution_count": 90,
   "id": "d066a6ed-6f99-4e72-8317-46f9d11eb97b",
   "metadata": {},
   "outputs": [
    {
     "data": {
      "text/html": [
       "<div>\n",
       "<style scoped>\n",
       "    .dataframe tbody tr th:only-of-type {\n",
       "        vertical-align: middle;\n",
       "    }\n",
       "\n",
       "    .dataframe tbody tr th {\n",
       "        vertical-align: top;\n",
       "    }\n",
       "\n",
       "    .dataframe thead th {\n",
       "        text-align: right;\n",
       "    }\n",
       "</style>\n",
       "<table border=\"1\" class=\"dataframe\">\n",
       "  <thead>\n",
       "    <tr style=\"text-align: right;\">\n",
       "      <th></th>\n",
       "      <th>Predicted 0</th>\n",
       "      <th>Predicted 1</th>\n",
       "    </tr>\n",
       "  </thead>\n",
       "  <tbody>\n",
       "    <tr>\n",
       "      <th>Actual 0</th>\n",
       "      <td>614</td>\n",
       "      <td>5</td>\n",
       "    </tr>\n",
       "    <tr>\n",
       "      <th>Actual 1</th>\n",
       "      <td>113</td>\n",
       "      <td>18652</td>\n",
       "    </tr>\n",
       "  </tbody>\n",
       "</table>\n",
       "</div>"
      ],
      "text/plain": [
       "          Predicted 0  Predicted 1\n",
       "Actual 0          614            5\n",
       "Actual 1          113        18652"
      ]
     },
     "metadata": {},
     "output_type": "display_data"
    }
   ],
   "source": [
    "# Create the confusion matrix\n",
    "cc_cm = confusion_matrix(y_test, cc_y_predict)\n",
    "cc_cm_df = pd.DataFrame(\n",
    "    cc_cm, index=[\"Actual 0\", \"Actual 1\"],\n",
    "    columns=[\"Predicted 0\", \"Predicted 1\"])\n",
    "\n",
    "# Display the confusion matrix\n",
    "display(cc_cm_df)"
   ]
  },
  {
   "cell_type": "code",
   "execution_count": 91,
   "id": "cd567073-0830-4fce-be27-7dd509b8f482",
   "metadata": {},
   "outputs": [
    {
     "name": "stdout",
     "output_type": "stream",
     "text": [
      "Classification Report\n",
      "\n",
      "                   pre       rec       spe        f1       geo       iba       sup\n",
      "\n",
      "  high_risk       0.84      0.99      0.99      0.91      0.99      0.99       619\n",
      "   low_risk       1.00      0.99      0.99      1.00      0.99      0.99     18765\n",
      "\n",
      "avg / total       0.99      0.99      0.99      0.99      0.99      0.99     19384\n",
      "\n"
     ]
    }
   ],
   "source": [
    "# Show the imbalanced classification report\n",
    "print(\"Classification Report\")\n",
    "...\n",
    "print(\"\")\n",
    "...\n",
    "print(classification_report_imbalanced(y_test, cc_y_predict))"
   ]
  },
  {
   "cell_type": "markdown",
   "id": "ae254ba9-8bc0-4f60-9853-36ef8df2f9e7",
   "metadata": {},
   "source": [
    "### Part Seven - A Combination of (Over & Under) Sampling"
   ]
  },
  {
   "cell_type": "markdown",
   "id": "de7566bb-caa4-48c1-adf8-c6dca9ca2d17",
   "metadata": {},
   "source": [
    "##### In this section, you will test a combination over- and under-sampling algorithm to determine if the algorithm results in the best performance compared to the other sampling algorithms above. You will resample the data using the SMOTEENN algorithm and complete the folliowing steps:\n",
    "\n",
    "1. View the count of the target classes using ***Counter*** from the collections library. \n",
    "3. Use the resampled data to train a logistic regression model.\n",
    "3. Calculate the balanced accuracy score from sklearn.metrics.\n",
    "4. Display the confusion matrix from sklearn.metrics.\n",
    "5. Generate a classication report using the ***imbalanced_classification_report*** from imbalanced-learn."
   ]
  },
  {
   "cell_type": "code",
   "execution_count": 92,
   "id": "8b435c9a-0978-4227-b5b7-06ce0f75e4ba",
   "metadata": {},
   "outputs": [
    {
     "data": {
      "text/plain": [
       "Counter({'high_risk': 55509, 'low_risk': 55937})"
      ]
     },
     "execution_count": 92,
     "metadata": {},
     "output_type": "execute_result"
    }
   ],
   "source": [
    "# Import the library needed to resample with SMOTEENN\n",
    "from imblearn.combine import SMOTEENN\n",
    "\n",
    "# Resample the training data with SMOTEENN\n",
    "sm = SMOTEENN(random_state=1)\n",
    "sm_x_resampled, sm_y_resampled = sm.fit_resample(x_train_scaled, y_train)\n",
    "\n",
    "# View the amount of target classes with Counter - notice this time they are not equal\n",
    "Counter(sm_y_resampled)"
   ]
  },
  {
   "cell_type": "code",
   "execution_count": 94,
   "id": "bce0e437-030b-4618-b73e-2d2f48916d88",
   "metadata": {},
   "outputs": [
    {
     "data": {
      "text/plain": [
       "LogisticRegression(random_state=1)"
      ]
     },
     "execution_count": 94,
     "metadata": {},
     "output_type": "execute_result"
    }
   ],
   "source": [
    "# Import the library needed for the model\n",
    "from sklearn.linear_model import LogisticRegression\n",
    "\n",
    "# Train the Logistic Regression model using the resampled data\n",
    "sm_model = LogisticRegression(solver='lbfgs', random_state=1)\n",
    "sm_model.fit(sm_x_resampled, sm_y_resampled)"
   ]
  },
  {
   "cell_type": "code",
   "execution_count": 95,
   "id": "cd184563-ddc3-4998-9167-1f251b8c60f1",
   "metadata": {},
   "outputs": [
    {
     "name": "stdout",
     "output_type": "stream",
     "text": [
      "The Balanced Accuracy Score is : 0.9934649587814939\n"
     ]
    }
   ],
   "source": [
    "# Have the model predict the results\n",
    "sm_y_predict = sm_model.predict(x_test_scaled)\n",
    "\n",
    "# Calculate the balanced accuracy score\n",
    "sm_bas = balanced_accuracy_score(y_test, sm_y_predict)\n",
    "\n",
    "# Display the BAS\n",
    "print(f\"The Balanced Accuracy Score is : {sm_bas}\")"
   ]
  },
  {
   "cell_type": "code",
   "execution_count": 96,
   "id": "f6ef336a-c101-4a83-8d0c-867b3b3235ec",
   "metadata": {},
   "outputs": [
    {
     "data": {
      "text/html": [
       "<div>\n",
       "<style scoped>\n",
       "    .dataframe tbody tr th:only-of-type {\n",
       "        vertical-align: middle;\n",
       "    }\n",
       "\n",
       "    .dataframe tbody tr th {\n",
       "        vertical-align: top;\n",
       "    }\n",
       "\n",
       "    .dataframe thead th {\n",
       "        text-align: right;\n",
       "    }\n",
       "</style>\n",
       "<table border=\"1\" class=\"dataframe\">\n",
       "  <thead>\n",
       "    <tr style=\"text-align: right;\">\n",
       "      <th></th>\n",
       "      <th>Predicted 0</th>\n",
       "      <th>Predicted 1</th>\n",
       "    </tr>\n",
       "  </thead>\n",
       "  <tbody>\n",
       "    <tr>\n",
       "      <th>Actual 0</th>\n",
       "      <td>615</td>\n",
       "      <td>4</td>\n",
       "    </tr>\n",
       "    <tr>\n",
       "      <th>Actual 1</th>\n",
       "      <td>124</td>\n",
       "      <td>18641</td>\n",
       "    </tr>\n",
       "  </tbody>\n",
       "</table>\n",
       "</div>"
      ],
      "text/plain": [
       "          Predicted 0  Predicted 1\n",
       "Actual 0          615            4\n",
       "Actual 1          124        18641"
      ]
     },
     "metadata": {},
     "output_type": "display_data"
    }
   ],
   "source": [
    "# Create the Confusion Correlation Matrix\n",
    "sm_cm = confusion_matrix(y_test, sm_y_predict)\n",
    "sm_cm_df = pd.DataFrame(\n",
    "    sm_cm, index=[\"Actual 0\", \"Actual 1\"],\n",
    "    columns=[\"Predicted 0\", \"Predicted 1\"])\n",
    "\n",
    "# Display the confusion matrix\n",
    "display(sm_cm_df)"
   ]
  },
  {
   "cell_type": "code",
   "execution_count": 97,
   "id": "921b3dbb-187c-43a4-a8dd-a71be74e6595",
   "metadata": {},
   "outputs": [
    {
     "name": "stdout",
     "output_type": "stream",
     "text": [
      "Classification Report\n",
      "\n",
      "                   pre       rec       spe        f1       geo       iba       sup\n",
      "\n",
      "  high_risk       0.83      0.99      0.99      0.91      0.99      0.99       619\n",
      "   low_risk       1.00      0.99      0.99      1.00      0.99      0.99     18765\n",
      "\n",
      "avg / total       0.99      0.99      0.99      0.99      0.99      0.99     19384\n",
      "\n"
     ]
    }
   ],
   "source": [
    "# Show the imbalanced classification report\n",
    "print(\"Classification Report\")\n",
    "...\n",
    "print(\"\")\n",
    "...\n",
    "print(classification_report_imbalanced(y_test, sm_y_predict))"
   ]
  },
  {
   "cell_type": "markdown",
   "id": "859cfecd-3d8e-4ad0-88af-012b25a2dc12",
   "metadata": {},
   "source": [
    "### Part Eight - Final Questions"
   ]
  },
  {
   "cell_type": "markdown",
   "id": "56eef4b1-6667-49d4-8dea-5120138dfdfe",
   "metadata": {},
   "source": [
    "##### Which model had the best balanced accuraccy score?"
   ]
  },
  {
   "cell_type": "code",
   "execution_count": 108,
   "id": "ac9e060a-5aec-493f-a93b-8fca1542836c",
   "metadata": {
    "jupyter": {
     "source_hidden": true
    },
    "tags": []
   },
   "outputs": [
    {
     "name": "stdout",
     "output_type": "stream",
     "text": [
      "Let's view all the results of the Balanced Accuraccy Score:\n",
      "\n",
      "The Simple Logistic Regression had a BAS of: 0.9889115309798473\n",
      "The Random Over Sampling had a BAS of: 0.9934649587814939\n",
      "The Synthetic Minority Oversampling Technique had a BAS of: 0.9934649587814939\n",
      "The Cluster Centroids had a BAS of: 0.9929503031930944\n",
      "The Smoteenn model had a BAS of: 0.9934649587814939\n"
     ]
    }
   ],
   "source": [
    "print(\"Let's view all the results of the Balanced Accuraccy Score:\")\n",
    "...\n",
    "print(\"\")\n",
    "...\n",
    "print(f\"The Simple Logistic Regression had a BAS of: {slr_bas}\")\n",
    "print(f\"The Random Over Sampling had a BAS of: {ros_bas}\")\n",
    "print(f\"The Synthetic Minority Oversampling Technique had a BAS of: {smote_bas}\")\n",
    "print(f\"The Cluster Centroids had a BAS of: {cc_bas}\")\n",
    "print(f\"The Smoteenn model had a BAS of: {sm_bas}\")"
   ]
  },
  {
   "cell_type": "markdown",
   "id": "2200f813-4172-4d8b-b057-738b70ec5f5d",
   "metadata": {},
   "source": [
    "In this project there were three different models that all ended with a tie for the highest Balanced Accuraccy Score. These three models were the *Random Over Sampling Model*, the *Synthetic Minority Oversampling Technique*, & the *Smoteenn*. All of these models had a BAS of **0.993465**."
   ]
  },
  {
   "cell_type": "markdown",
   "id": "3d3b4443-aaaf-4e13-90a3-8c5b9ffac247",
   "metadata": {},
   "source": [
    "##### Which model had the best recall score?"
   ]
  },
  {
   "cell_type": "markdown",
   "id": "7a629819-2306-4bb7-ac78-2c953bc5c93b",
   "metadata": {},
   "source": [
    "During this project each of the five models ended up with the same recall score. This score was **0.99** for each of the models. These results can all be seen in the classification reports for each model in the row & column that corresponds to *avg/total* & *rec* respectfully."
   ]
  },
  {
   "cell_type": "markdown",
   "id": "fa03f98c-2ef7-4ef1-932e-071bfb7bdbcf",
   "metadata": {},
   "source": [
    "##### Which model had the best geometric mean score?"
   ]
  },
  {
   "cell_type": "markdown",
   "id": "96381dbd-0ed9-4cab-9b2b-d077f4679e04",
   "metadata": {},
   "source": [
    "Similarly, during this project each of the five models ended up with the same geometric mean score. This score was **0.99** for each of the models. These results can all be seen in the classification reports for each model in the row & column that corresponds to *avg/total* & *geo* respectfully."
   ]
  },
  {
   "cell_type": "code",
   "execution_count": null,
   "id": "965d1f93-7fac-4003-b1ea-65a918cf834f",
   "metadata": {},
   "outputs": [],
   "source": []
  }
 ],
 "metadata": {
  "kernelspec": {
   "display_name": "Python 3 (ipykernel)",
   "language": "python",
   "name": "python3"
  },
  "language_info": {
   "codemirror_mode": {
    "name": "ipython",
    "version": 3
   },
   "file_extension": ".py",
   "mimetype": "text/x-python",
   "name": "python",
   "nbconvert_exporter": "python",
   "pygments_lexer": "ipython3",
   "version": "3.7.13"
  }
 },
 "nbformat": 4,
 "nbformat_minor": 5
}
