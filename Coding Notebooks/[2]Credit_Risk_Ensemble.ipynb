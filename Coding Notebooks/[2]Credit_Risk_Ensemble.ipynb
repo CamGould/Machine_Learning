{
 "cells": [
  {
   "cell_type": "markdown",
   "metadata": {},
   "source": [
    "# Credit Risk Ensemble"
   ]
  },
  {
   "cell_type": "markdown",
   "metadata": {},
   "source": [
    "### Part Zero - Initial Imports"
   ]
  },
  {
   "cell_type": "code",
   "execution_count": 1,
   "metadata": {},
   "outputs": [],
   "source": [
    "# Import a library to ignore the warnings\n",
    "import warnings\n",
    "warnings.filterwarnings('ignore')"
   ]
  },
  {
   "cell_type": "code",
   "execution_count": 3,
   "metadata": {},
   "outputs": [
    {
     "data": {
      "text/plain": [
       "'/Users/cg/Documents/FinTech_Bootcamp/[Unit_11]Machine_Learning/[Homework]Risky_Buisness'"
      ]
     },
     "execution_count": 3,
     "metadata": {},
     "output_type": "execute_result"
    }
   ],
   "source": [
    "# Import the libraries I will need for this project \n",
    "import numpy as np\n",
    "import pandas as pd\n",
    "from pathlib import Path\n",
    "from collections import Counter\n",
    "from sklearn.metrics import balanced_accuracy_score\n",
    "from sklearn.metrics import confusion_matrix\n",
    "from imblearn.metrics import classification_report_imbalanced\n",
    "import os \n",
    "\n",
    "# Identify the directory I am working in \n",
    "os.getcwd()"
   ]
  },
  {
   "cell_type": "markdown",
   "metadata": {},
   "source": [
    "### Part One -  Read the CSV and Perform Basic Data Cleaning"
   ]
  },
  {
   "cell_type": "code",
   "execution_count": 11,
   "metadata": {},
   "outputs": [
    {
     "data": {
      "text/html": [
       "<div>\n",
       "<style scoped>\n",
       "    .dataframe tbody tr th:only-of-type {\n",
       "        vertical-align: middle;\n",
       "    }\n",
       "\n",
       "    .dataframe tbody tr th {\n",
       "        vertical-align: top;\n",
       "    }\n",
       "\n",
       "    .dataframe thead th {\n",
       "        text-align: right;\n",
       "    }\n",
       "</style>\n",
       "<table border=\"1\" class=\"dataframe\">\n",
       "  <thead>\n",
       "    <tr style=\"text-align: right;\">\n",
       "      <th></th>\n",
       "      <th>loan_amnt</th>\n",
       "      <th>int_rate</th>\n",
       "      <th>installment</th>\n",
       "      <th>home_ownership</th>\n",
       "      <th>annual_inc</th>\n",
       "      <th>verification_status</th>\n",
       "      <th>issue_d</th>\n",
       "      <th>loan_status</th>\n",
       "      <th>pymnt_plan</th>\n",
       "      <th>dti</th>\n",
       "      <th>...</th>\n",
       "      <th>pct_tl_nvr_dlq</th>\n",
       "      <th>percent_bc_gt_75</th>\n",
       "      <th>pub_rec_bankruptcies</th>\n",
       "      <th>tax_liens</th>\n",
       "      <th>tot_hi_cred_lim</th>\n",
       "      <th>total_bal_ex_mort</th>\n",
       "      <th>total_bc_limit</th>\n",
       "      <th>total_il_high_credit_limit</th>\n",
       "      <th>hardship_flag</th>\n",
       "      <th>debt_settlement_flag</th>\n",
       "    </tr>\n",
       "  </thead>\n",
       "  <tbody>\n",
       "    <tr>\n",
       "      <th>0</th>\n",
       "      <td>10500.0</td>\n",
       "      <td>0.1719</td>\n",
       "      <td>375.35</td>\n",
       "      <td>RENT</td>\n",
       "      <td>66000.0</td>\n",
       "      <td>Source Verified</td>\n",
       "      <td>Mar-2019</td>\n",
       "      <td>low_risk</td>\n",
       "      <td>n</td>\n",
       "      <td>27.24</td>\n",
       "      <td>...</td>\n",
       "      <td>85.7</td>\n",
       "      <td>100.0</td>\n",
       "      <td>0.0</td>\n",
       "      <td>0.0</td>\n",
       "      <td>65687.0</td>\n",
       "      <td>38199.0</td>\n",
       "      <td>2000.0</td>\n",
       "      <td>61987.0</td>\n",
       "      <td>N</td>\n",
       "      <td>N</td>\n",
       "    </tr>\n",
       "    <tr>\n",
       "      <th>1</th>\n",
       "      <td>25000.0</td>\n",
       "      <td>0.2000</td>\n",
       "      <td>929.09</td>\n",
       "      <td>MORTGAGE</td>\n",
       "      <td>105000.0</td>\n",
       "      <td>Verified</td>\n",
       "      <td>Mar-2019</td>\n",
       "      <td>low_risk</td>\n",
       "      <td>n</td>\n",
       "      <td>20.23</td>\n",
       "      <td>...</td>\n",
       "      <td>91.2</td>\n",
       "      <td>50.0</td>\n",
       "      <td>1.0</td>\n",
       "      <td>0.0</td>\n",
       "      <td>271427.0</td>\n",
       "      <td>60641.0</td>\n",
       "      <td>41200.0</td>\n",
       "      <td>49197.0</td>\n",
       "      <td>N</td>\n",
       "      <td>N</td>\n",
       "    </tr>\n",
       "    <tr>\n",
       "      <th>2</th>\n",
       "      <td>20000.0</td>\n",
       "      <td>0.2000</td>\n",
       "      <td>529.88</td>\n",
       "      <td>MORTGAGE</td>\n",
       "      <td>56000.0</td>\n",
       "      <td>Verified</td>\n",
       "      <td>Mar-2019</td>\n",
       "      <td>low_risk</td>\n",
       "      <td>n</td>\n",
       "      <td>24.26</td>\n",
       "      <td>...</td>\n",
       "      <td>66.7</td>\n",
       "      <td>50.0</td>\n",
       "      <td>0.0</td>\n",
       "      <td>0.0</td>\n",
       "      <td>60644.0</td>\n",
       "      <td>45684.0</td>\n",
       "      <td>7500.0</td>\n",
       "      <td>43144.0</td>\n",
       "      <td>N</td>\n",
       "      <td>N</td>\n",
       "    </tr>\n",
       "    <tr>\n",
       "      <th>3</th>\n",
       "      <td>10000.0</td>\n",
       "      <td>0.1640</td>\n",
       "      <td>353.55</td>\n",
       "      <td>RENT</td>\n",
       "      <td>92000.0</td>\n",
       "      <td>Verified</td>\n",
       "      <td>Mar-2019</td>\n",
       "      <td>low_risk</td>\n",
       "      <td>n</td>\n",
       "      <td>31.44</td>\n",
       "      <td>...</td>\n",
       "      <td>100.0</td>\n",
       "      <td>50.0</td>\n",
       "      <td>1.0</td>\n",
       "      <td>0.0</td>\n",
       "      <td>99506.0</td>\n",
       "      <td>68784.0</td>\n",
       "      <td>19700.0</td>\n",
       "      <td>76506.0</td>\n",
       "      <td>N</td>\n",
       "      <td>N</td>\n",
       "    </tr>\n",
       "    <tr>\n",
       "      <th>4</th>\n",
       "      <td>22000.0</td>\n",
       "      <td>0.1474</td>\n",
       "      <td>520.39</td>\n",
       "      <td>MORTGAGE</td>\n",
       "      <td>52000.0</td>\n",
       "      <td>Not Verified</td>\n",
       "      <td>Mar-2019</td>\n",
       "      <td>low_risk</td>\n",
       "      <td>n</td>\n",
       "      <td>18.76</td>\n",
       "      <td>...</td>\n",
       "      <td>100.0</td>\n",
       "      <td>0.0</td>\n",
       "      <td>0.0</td>\n",
       "      <td>0.0</td>\n",
       "      <td>219750.0</td>\n",
       "      <td>25919.0</td>\n",
       "      <td>27600.0</td>\n",
       "      <td>20000.0</td>\n",
       "      <td>N</td>\n",
       "      <td>N</td>\n",
       "    </tr>\n",
       "    <tr>\n",
       "      <th>5</th>\n",
       "      <td>25000.0</td>\n",
       "      <td>0.1797</td>\n",
       "      <td>634.43</td>\n",
       "      <td>MORTGAGE</td>\n",
       "      <td>90000.0</td>\n",
       "      <td>Source Verified</td>\n",
       "      <td>Mar-2019</td>\n",
       "      <td>low_risk</td>\n",
       "      <td>n</td>\n",
       "      <td>18.49</td>\n",
       "      <td>...</td>\n",
       "      <td>93.1</td>\n",
       "      <td>66.7</td>\n",
       "      <td>0.0</td>\n",
       "      <td>0.0</td>\n",
       "      <td>550717.0</td>\n",
       "      <td>418934.0</td>\n",
       "      <td>18800.0</td>\n",
       "      <td>369051.0</td>\n",
       "      <td>N</td>\n",
       "      <td>N</td>\n",
       "    </tr>\n",
       "    <tr>\n",
       "      <th>6</th>\n",
       "      <td>20400.0</td>\n",
       "      <td>0.2000</td>\n",
       "      <td>540.48</td>\n",
       "      <td>RENT</td>\n",
       "      <td>51315.0</td>\n",
       "      <td>Source Verified</td>\n",
       "      <td>Mar-2019</td>\n",
       "      <td>low_risk</td>\n",
       "      <td>n</td>\n",
       "      <td>25.63</td>\n",
       "      <td>...</td>\n",
       "      <td>100.0</td>\n",
       "      <td>0.0</td>\n",
       "      <td>1.0</td>\n",
       "      <td>0.0</td>\n",
       "      <td>40023.0</td>\n",
       "      <td>23469.0</td>\n",
       "      <td>3500.0</td>\n",
       "      <td>27523.0</td>\n",
       "      <td>N</td>\n",
       "      <td>N</td>\n",
       "    </tr>\n",
       "    <tr>\n",
       "      <th>7</th>\n",
       "      <td>10000.0</td>\n",
       "      <td>0.1557</td>\n",
       "      <td>349.46</td>\n",
       "      <td>OWN</td>\n",
       "      <td>66000.0</td>\n",
       "      <td>Source Verified</td>\n",
       "      <td>Mar-2019</td>\n",
       "      <td>low_risk</td>\n",
       "      <td>n</td>\n",
       "      <td>9.00</td>\n",
       "      <td>...</td>\n",
       "      <td>100.0</td>\n",
       "      <td>16.7</td>\n",
       "      <td>0.0</td>\n",
       "      <td>0.0</td>\n",
       "      <td>29300.0</td>\n",
       "      <td>22377.0</td>\n",
       "      <td>8400.0</td>\n",
       "      <td>12500.0</td>\n",
       "      <td>N</td>\n",
       "      <td>N</td>\n",
       "    </tr>\n",
       "    <tr>\n",
       "      <th>8</th>\n",
       "      <td>14000.0</td>\n",
       "      <td>0.0881</td>\n",
       "      <td>443.96</td>\n",
       "      <td>RENT</td>\n",
       "      <td>45000.0</td>\n",
       "      <td>Not Verified</td>\n",
       "      <td>Mar-2019</td>\n",
       "      <td>low_risk</td>\n",
       "      <td>n</td>\n",
       "      <td>10.24</td>\n",
       "      <td>...</td>\n",
       "      <td>100.0</td>\n",
       "      <td>0.0</td>\n",
       "      <td>0.0</td>\n",
       "      <td>0.0</td>\n",
       "      <td>25100.0</td>\n",
       "      <td>9724.0</td>\n",
       "      <td>12100.0</td>\n",
       "      <td>3000.0</td>\n",
       "      <td>N</td>\n",
       "      <td>N</td>\n",
       "    </tr>\n",
       "    <tr>\n",
       "      <th>9</th>\n",
       "      <td>10000.0</td>\n",
       "      <td>0.1474</td>\n",
       "      <td>345.39</td>\n",
       "      <td>RENT</td>\n",
       "      <td>63295.0</td>\n",
       "      <td>Verified</td>\n",
       "      <td>Mar-2019</td>\n",
       "      <td>low_risk</td>\n",
       "      <td>n</td>\n",
       "      <td>39.34</td>\n",
       "      <td>...</td>\n",
       "      <td>97.2</td>\n",
       "      <td>71.4</td>\n",
       "      <td>0.0</td>\n",
       "      <td>0.0</td>\n",
       "      <td>119822.0</td>\n",
       "      <td>102924.0</td>\n",
       "      <td>15300.0</td>\n",
       "      <td>80722.0</td>\n",
       "      <td>N</td>\n",
       "      <td>N</td>\n",
       "    </tr>\n",
       "  </tbody>\n",
       "</table>\n",
       "<p>10 rows × 86 columns</p>\n",
       "</div>"
      ],
      "text/plain": [
       "   loan_amnt  int_rate  installment home_ownership  annual_inc  \\\n",
       "0    10500.0    0.1719       375.35           RENT     66000.0   \n",
       "1    25000.0    0.2000       929.09       MORTGAGE    105000.0   \n",
       "2    20000.0    0.2000       529.88       MORTGAGE     56000.0   \n",
       "3    10000.0    0.1640       353.55           RENT     92000.0   \n",
       "4    22000.0    0.1474       520.39       MORTGAGE     52000.0   \n",
       "5    25000.0    0.1797       634.43       MORTGAGE     90000.0   \n",
       "6    20400.0    0.2000       540.48           RENT     51315.0   \n",
       "7    10000.0    0.1557       349.46            OWN     66000.0   \n",
       "8    14000.0    0.0881       443.96           RENT     45000.0   \n",
       "9    10000.0    0.1474       345.39           RENT     63295.0   \n",
       "\n",
       "  verification_status   issue_d loan_status pymnt_plan    dti  ...  \\\n",
       "0     Source Verified  Mar-2019    low_risk          n  27.24  ...   \n",
       "1            Verified  Mar-2019    low_risk          n  20.23  ...   \n",
       "2            Verified  Mar-2019    low_risk          n  24.26  ...   \n",
       "3            Verified  Mar-2019    low_risk          n  31.44  ...   \n",
       "4        Not Verified  Mar-2019    low_risk          n  18.76  ...   \n",
       "5     Source Verified  Mar-2019    low_risk          n  18.49  ...   \n",
       "6     Source Verified  Mar-2019    low_risk          n  25.63  ...   \n",
       "7     Source Verified  Mar-2019    low_risk          n   9.00  ...   \n",
       "8        Not Verified  Mar-2019    low_risk          n  10.24  ...   \n",
       "9            Verified  Mar-2019    low_risk          n  39.34  ...   \n",
       "\n",
       "   pct_tl_nvr_dlq  percent_bc_gt_75  pub_rec_bankruptcies  tax_liens  \\\n",
       "0            85.7             100.0                   0.0        0.0   \n",
       "1            91.2              50.0                   1.0        0.0   \n",
       "2            66.7              50.0                   0.0        0.0   \n",
       "3           100.0              50.0                   1.0        0.0   \n",
       "4           100.0               0.0                   0.0        0.0   \n",
       "5            93.1              66.7                   0.0        0.0   \n",
       "6           100.0               0.0                   1.0        0.0   \n",
       "7           100.0              16.7                   0.0        0.0   \n",
       "8           100.0               0.0                   0.0        0.0   \n",
       "9            97.2              71.4                   0.0        0.0   \n",
       "\n",
       "   tot_hi_cred_lim  total_bal_ex_mort total_bc_limit  \\\n",
       "0          65687.0            38199.0         2000.0   \n",
       "1         271427.0            60641.0        41200.0   \n",
       "2          60644.0            45684.0         7500.0   \n",
       "3          99506.0            68784.0        19700.0   \n",
       "4         219750.0            25919.0        27600.0   \n",
       "5         550717.0           418934.0        18800.0   \n",
       "6          40023.0            23469.0         3500.0   \n",
       "7          29300.0            22377.0         8400.0   \n",
       "8          25100.0             9724.0        12100.0   \n",
       "9         119822.0           102924.0        15300.0   \n",
       "\n",
       "   total_il_high_credit_limit  hardship_flag  debt_settlement_flag  \n",
       "0                     61987.0              N                     N  \n",
       "1                     49197.0              N                     N  \n",
       "2                     43144.0              N                     N  \n",
       "3                     76506.0              N                     N  \n",
       "4                     20000.0              N                     N  \n",
       "5                    369051.0              N                     N  \n",
       "6                     27523.0              N                     N  \n",
       "7                     12500.0              N                     N  \n",
       "8                      3000.0              N                     N  \n",
       "9                     80722.0              N                     N  \n",
       "\n",
       "[10 rows x 86 columns]"
      ]
     },
     "execution_count": 11,
     "metadata": {},
     "output_type": "execute_result"
    }
   ],
   "source": [
    "# Load the data for the project\n",
    "csv_path = Path('/Users/cg/Documents/FinTech_Bootcamp/[Unit_11]Machine_Learning/[Homework]Risky_Buisness/LoanStats_2019Q1.csv')\n",
    "df = pd.read_csv(csv_path)\n",
    "\n",
    "# Preview the data\n",
    "df.head(10)"
   ]
  },
  {
   "cell_type": "markdown",
   "metadata": {},
   "source": [
    "### Part Two - Split the Data into Training and Testing"
   ]
  },
  {
   "cell_type": "code",
   "execution_count": 15,
   "metadata": {},
   "outputs": [
    {
     "name": "stdout",
     "output_type": "stream",
     "text": [
      "Index(['loan_amnt', 'int_rate', 'installment', 'home_ownership', 'annual_inc',\n",
      "       'verification_status', 'issue_d', 'loan_status', 'pymnt_plan', 'dti',\n",
      "       'delinq_2yrs', 'inq_last_6mths', 'open_acc', 'pub_rec', 'revol_bal',\n",
      "       'total_acc', 'initial_list_status', 'out_prncp', 'out_prncp_inv',\n",
      "       'total_pymnt', 'total_pymnt_inv', 'total_rec_prncp', 'total_rec_int',\n",
      "       'total_rec_late_fee', 'recoveries', 'collection_recovery_fee',\n",
      "       'last_pymnt_amnt', 'next_pymnt_d', 'collections_12_mths_ex_med',\n",
      "       'policy_code', 'application_type', 'acc_now_delinq', 'tot_coll_amt',\n",
      "       'tot_cur_bal', 'open_acc_6m', 'open_act_il', 'open_il_12m',\n",
      "       'open_il_24m', 'mths_since_rcnt_il', 'total_bal_il', 'il_util',\n",
      "       'open_rv_12m', 'open_rv_24m', 'max_bal_bc', 'all_util',\n",
      "       'total_rev_hi_lim', 'inq_fi', 'total_cu_tl', 'inq_last_12m',\n",
      "       'acc_open_past_24mths', 'avg_cur_bal', 'bc_open_to_buy', 'bc_util',\n",
      "       'chargeoff_within_12_mths', 'delinq_amnt', 'mo_sin_old_il_acct',\n",
      "       'mo_sin_old_rev_tl_op', 'mo_sin_rcnt_rev_tl_op', 'mo_sin_rcnt_tl',\n",
      "       'mort_acc', 'mths_since_recent_bc', 'mths_since_recent_inq',\n",
      "       'num_accts_ever_120_pd', 'num_actv_bc_tl', 'num_actv_rev_tl',\n",
      "       'num_bc_sats', 'num_bc_tl', 'num_il_tl', 'num_op_rev_tl',\n",
      "       'num_rev_accts', 'num_rev_tl_bal_gt_0', 'num_sats', 'num_tl_120dpd_2m',\n",
      "       'num_tl_30dpd', 'num_tl_90g_dpd_24m', 'num_tl_op_past_12m',\n",
      "       'pct_tl_nvr_dlq', 'percent_bc_gt_75', 'pub_rec_bankruptcies',\n",
      "       'tax_liens', 'tot_hi_cred_lim', 'total_bal_ex_mort', 'total_bc_limit',\n",
      "       'total_il_high_credit_limit', 'hardship_flag', 'debt_settlement_flag'],\n",
      "      dtype='object')\n"
     ]
    }
   ],
   "source": [
    "# View all the columns in the df\n",
    "print(df.columns)"
   ]
  },
  {
   "cell_type": "code",
   "execution_count": 17,
   "metadata": {},
   "outputs": [],
   "source": [
    "# Here I will make the features -  Drop columns with only a single value ordates\n",
    "x = df.drop(columns=[\n",
    "'next_pymnt_d',\n",
    "'acc_now_delinq',\n",
    "'num_tl_120dpd_2m',\n",
    "'num_tl_30dpd',\n",
    "'tax_liens',\n",
    "'hardship_flag',\n",
    "'debt_settlement_flag',\n",
    "'loan_status',\n",
    "'issue_d',\n",
    "'pymnt_plan',\n",
    "'recoveries',\n",
    "'collection_recovery_fee',\n",
    "])"
   ]
  },
  {
   "cell_type": "code",
   "execution_count": 19,
   "metadata": {},
   "outputs": [],
   "source": [
    "# Set columns with string values to have binary values\n",
    "x_binary = pd.get_dummies(X, columns=[\n",
    "    'application_type', \n",
    "    'initial_list_status',\n",
    "    'home_ownership',\n",
    "    'verification_status',\n",
    "    ])"
   ]
  },
  {
   "cell_type": "code",
   "execution_count": 20,
   "metadata": {},
   "outputs": [],
   "source": [
    "# Define and create the target\n",
    "y = df['loan_status']"
   ]
  },
  {
   "cell_type": "code",
   "execution_count": 21,
   "metadata": {},
   "outputs": [
    {
     "data": {
      "text/html": [
       "<div>\n",
       "<style scoped>\n",
       "    .dataframe tbody tr th:only-of-type {\n",
       "        vertical-align: middle;\n",
       "    }\n",
       "\n",
       "    .dataframe tbody tr th {\n",
       "        vertical-align: top;\n",
       "    }\n",
       "\n",
       "    .dataframe thead th {\n",
       "        text-align: right;\n",
       "    }\n",
       "</style>\n",
       "<table border=\"1\" class=\"dataframe\">\n",
       "  <thead>\n",
       "    <tr style=\"text-align: right;\">\n",
       "      <th></th>\n",
       "      <th>loan_amnt</th>\n",
       "      <th>int_rate</th>\n",
       "      <th>installment</th>\n",
       "      <th>annual_inc</th>\n",
       "      <th>dti</th>\n",
       "      <th>delinq_2yrs</th>\n",
       "      <th>inq_last_6mths</th>\n",
       "      <th>open_acc</th>\n",
       "      <th>pub_rec</th>\n",
       "      <th>revol_bal</th>\n",
       "      <th>...</th>\n",
       "      <th>num_sats</th>\n",
       "      <th>num_tl_90g_dpd_24m</th>\n",
       "      <th>num_tl_op_past_12m</th>\n",
       "      <th>pct_tl_nvr_dlq</th>\n",
       "      <th>percent_bc_gt_75</th>\n",
       "      <th>pub_rec_bankruptcies</th>\n",
       "      <th>tot_hi_cred_lim</th>\n",
       "      <th>total_bal_ex_mort</th>\n",
       "      <th>total_bc_limit</th>\n",
       "      <th>total_il_high_credit_limit</th>\n",
       "    </tr>\n",
       "  </thead>\n",
       "  <tbody>\n",
       "    <tr>\n",
       "      <th>count</th>\n",
       "      <td>68817.000000</td>\n",
       "      <td>68817.000000</td>\n",
       "      <td>68817.000000</td>\n",
       "      <td>6.881700e+04</td>\n",
       "      <td>68817.000000</td>\n",
       "      <td>68817.000000</td>\n",
       "      <td>68817.000000</td>\n",
       "      <td>68817.000000</td>\n",
       "      <td>68817.000000</td>\n",
       "      <td>68817.000000</td>\n",
       "      <td>...</td>\n",
       "      <td>68817.000000</td>\n",
       "      <td>68817.000000</td>\n",
       "      <td>68817.000000</td>\n",
       "      <td>68817.000000</td>\n",
       "      <td>68817.000000</td>\n",
       "      <td>68817.000000</td>\n",
       "      <td>6.881700e+04</td>\n",
       "      <td>6.881700e+04</td>\n",
       "      <td>68817.000000</td>\n",
       "      <td>6.881700e+04</td>\n",
       "    </tr>\n",
       "    <tr>\n",
       "      <th>mean</th>\n",
       "      <td>16677.594562</td>\n",
       "      <td>0.127718</td>\n",
       "      <td>480.652863</td>\n",
       "      <td>8.821371e+04</td>\n",
       "      <td>21.778153</td>\n",
       "      <td>0.217766</td>\n",
       "      <td>0.497697</td>\n",
       "      <td>12.587340</td>\n",
       "      <td>0.126030</td>\n",
       "      <td>17604.142828</td>\n",
       "      <td>...</td>\n",
       "      <td>12.571995</td>\n",
       "      <td>0.052138</td>\n",
       "      <td>2.219423</td>\n",
       "      <td>95.057627</td>\n",
       "      <td>30.626217</td>\n",
       "      <td>0.125972</td>\n",
       "      <td>2.100332e+05</td>\n",
       "      <td>6.133843e+04</td>\n",
       "      <td>29734.128558</td>\n",
       "      <td>5.572240e+04</td>\n",
       "    </tr>\n",
       "    <tr>\n",
       "      <th>std</th>\n",
       "      <td>10277.348590</td>\n",
       "      <td>0.048130</td>\n",
       "      <td>288.062432</td>\n",
       "      <td>1.155800e+05</td>\n",
       "      <td>20.199244</td>\n",
       "      <td>0.718367</td>\n",
       "      <td>0.758122</td>\n",
       "      <td>6.022869</td>\n",
       "      <td>0.336797</td>\n",
       "      <td>21835.880400</td>\n",
       "      <td>...</td>\n",
       "      <td>6.021318</td>\n",
       "      <td>0.390633</td>\n",
       "      <td>1.897432</td>\n",
       "      <td>8.326426</td>\n",
       "      <td>33.631463</td>\n",
       "      <td>0.336732</td>\n",
       "      <td>1.928088e+05</td>\n",
       "      <td>5.738798e+04</td>\n",
       "      <td>26795.394232</td>\n",
       "      <td>5.095845e+04</td>\n",
       "    </tr>\n",
       "    <tr>\n",
       "      <th>min</th>\n",
       "      <td>1000.000000</td>\n",
       "      <td>0.060000</td>\n",
       "      <td>30.890000</td>\n",
       "      <td>4.000000e+01</td>\n",
       "      <td>0.000000</td>\n",
       "      <td>0.000000</td>\n",
       "      <td>0.000000</td>\n",
       "      <td>2.000000</td>\n",
       "      <td>0.000000</td>\n",
       "      <td>0.000000</td>\n",
       "      <td>...</td>\n",
       "      <td>2.000000</td>\n",
       "      <td>0.000000</td>\n",
       "      <td>0.000000</td>\n",
       "      <td>20.000000</td>\n",
       "      <td>0.000000</td>\n",
       "      <td>0.000000</td>\n",
       "      <td>3.600000e+03</td>\n",
       "      <td>2.350000e+02</td>\n",
       "      <td>100.000000</td>\n",
       "      <td>1.270000e+02</td>\n",
       "    </tr>\n",
       "    <tr>\n",
       "      <th>25%</th>\n",
       "      <td>9000.000000</td>\n",
       "      <td>0.088100</td>\n",
       "      <td>265.730000</td>\n",
       "      <td>5.000000e+04</td>\n",
       "      <td>13.890000</td>\n",
       "      <td>0.000000</td>\n",
       "      <td>0.000000</td>\n",
       "      <td>8.000000</td>\n",
       "      <td>0.000000</td>\n",
       "      <td>6293.000000</td>\n",
       "      <td>...</td>\n",
       "      <td>8.000000</td>\n",
       "      <td>0.000000</td>\n",
       "      <td>1.000000</td>\n",
       "      <td>93.000000</td>\n",
       "      <td>0.000000</td>\n",
       "      <td>0.000000</td>\n",
       "      <td>6.697700e+04</td>\n",
       "      <td>2.650300e+04</td>\n",
       "      <td>11600.000000</td>\n",
       "      <td>2.288000e+04</td>\n",
       "    </tr>\n",
       "    <tr>\n",
       "      <th>50%</th>\n",
       "      <td>15000.000000</td>\n",
       "      <td>0.118000</td>\n",
       "      <td>404.560000</td>\n",
       "      <td>7.300000e+04</td>\n",
       "      <td>19.760000</td>\n",
       "      <td>0.000000</td>\n",
       "      <td>0.000000</td>\n",
       "      <td>11.000000</td>\n",
       "      <td>0.000000</td>\n",
       "      <td>12068.000000</td>\n",
       "      <td>...</td>\n",
       "      <td>11.000000</td>\n",
       "      <td>0.000000</td>\n",
       "      <td>2.000000</td>\n",
       "      <td>100.000000</td>\n",
       "      <td>20.000000</td>\n",
       "      <td>0.000000</td>\n",
       "      <td>1.467100e+05</td>\n",
       "      <td>4.535700e+04</td>\n",
       "      <td>22100.000000</td>\n",
       "      <td>4.200000e+04</td>\n",
       "    </tr>\n",
       "    <tr>\n",
       "      <th>75%</th>\n",
       "      <td>24000.000000</td>\n",
       "      <td>0.155700</td>\n",
       "      <td>648.100000</td>\n",
       "      <td>1.040000e+05</td>\n",
       "      <td>26.660000</td>\n",
       "      <td>0.000000</td>\n",
       "      <td>1.000000</td>\n",
       "      <td>16.000000</td>\n",
       "      <td>0.000000</td>\n",
       "      <td>21735.000000</td>\n",
       "      <td>...</td>\n",
       "      <td>16.000000</td>\n",
       "      <td>0.000000</td>\n",
       "      <td>3.000000</td>\n",
       "      <td>100.000000</td>\n",
       "      <td>50.000000</td>\n",
       "      <td>0.000000</td>\n",
       "      <td>3.036400e+05</td>\n",
       "      <td>7.657000e+04</td>\n",
       "      <td>39300.000000</td>\n",
       "      <td>7.249900e+04</td>\n",
       "    </tr>\n",
       "    <tr>\n",
       "      <th>max</th>\n",
       "      <td>40000.000000</td>\n",
       "      <td>0.308400</td>\n",
       "      <td>1676.230000</td>\n",
       "      <td>8.797500e+06</td>\n",
       "      <td>999.000000</td>\n",
       "      <td>18.000000</td>\n",
       "      <td>5.000000</td>\n",
       "      <td>72.000000</td>\n",
       "      <td>4.000000</td>\n",
       "      <td>587191.000000</td>\n",
       "      <td>...</td>\n",
       "      <td>72.000000</td>\n",
       "      <td>18.000000</td>\n",
       "      <td>19.000000</td>\n",
       "      <td>100.000000</td>\n",
       "      <td>100.000000</td>\n",
       "      <td>4.000000</td>\n",
       "      <td>3.292782e+06</td>\n",
       "      <td>1.295455e+06</td>\n",
       "      <td>509400.000000</td>\n",
       "      <td>1.426964e+06</td>\n",
       "    </tr>\n",
       "  </tbody>\n",
       "</table>\n",
       "<p>8 rows × 70 columns</p>\n",
       "</div>"
      ],
      "text/plain": [
       "          loan_amnt      int_rate   installment    annual_inc           dti  \\\n",
       "count  68817.000000  68817.000000  68817.000000  6.881700e+04  68817.000000   \n",
       "mean   16677.594562      0.127718    480.652863  8.821371e+04     21.778153   \n",
       "std    10277.348590      0.048130    288.062432  1.155800e+05     20.199244   \n",
       "min     1000.000000      0.060000     30.890000  4.000000e+01      0.000000   \n",
       "25%     9000.000000      0.088100    265.730000  5.000000e+04     13.890000   \n",
       "50%    15000.000000      0.118000    404.560000  7.300000e+04     19.760000   \n",
       "75%    24000.000000      0.155700    648.100000  1.040000e+05     26.660000   \n",
       "max    40000.000000      0.308400   1676.230000  8.797500e+06    999.000000   \n",
       "\n",
       "        delinq_2yrs  inq_last_6mths      open_acc       pub_rec  \\\n",
       "count  68817.000000    68817.000000  68817.000000  68817.000000   \n",
       "mean       0.217766        0.497697     12.587340      0.126030   \n",
       "std        0.718367        0.758122      6.022869      0.336797   \n",
       "min        0.000000        0.000000      2.000000      0.000000   \n",
       "25%        0.000000        0.000000      8.000000      0.000000   \n",
       "50%        0.000000        0.000000     11.000000      0.000000   \n",
       "75%        0.000000        1.000000     16.000000      0.000000   \n",
       "max       18.000000        5.000000     72.000000      4.000000   \n",
       "\n",
       "           revol_bal  ...      num_sats  num_tl_90g_dpd_24m  \\\n",
       "count   68817.000000  ...  68817.000000        68817.000000   \n",
       "mean    17604.142828  ...     12.571995            0.052138   \n",
       "std     21835.880400  ...      6.021318            0.390633   \n",
       "min         0.000000  ...      2.000000            0.000000   \n",
       "25%      6293.000000  ...      8.000000            0.000000   \n",
       "50%     12068.000000  ...     11.000000            0.000000   \n",
       "75%     21735.000000  ...     16.000000            0.000000   \n",
       "max    587191.000000  ...     72.000000           18.000000   \n",
       "\n",
       "       num_tl_op_past_12m  pct_tl_nvr_dlq  percent_bc_gt_75  \\\n",
       "count        68817.000000    68817.000000      68817.000000   \n",
       "mean             2.219423       95.057627         30.626217   \n",
       "std              1.897432        8.326426         33.631463   \n",
       "min              0.000000       20.000000          0.000000   \n",
       "25%              1.000000       93.000000          0.000000   \n",
       "50%              2.000000      100.000000         20.000000   \n",
       "75%              3.000000      100.000000         50.000000   \n",
       "max             19.000000      100.000000        100.000000   \n",
       "\n",
       "       pub_rec_bankruptcies  tot_hi_cred_lim  total_bal_ex_mort  \\\n",
       "count          68817.000000     6.881700e+04       6.881700e+04   \n",
       "mean               0.125972     2.100332e+05       6.133843e+04   \n",
       "std                0.336732     1.928088e+05       5.738798e+04   \n",
       "min                0.000000     3.600000e+03       2.350000e+02   \n",
       "25%                0.000000     6.697700e+04       2.650300e+04   \n",
       "50%                0.000000     1.467100e+05       4.535700e+04   \n",
       "75%                0.000000     3.036400e+05       7.657000e+04   \n",
       "max                4.000000     3.292782e+06       1.295455e+06   \n",
       "\n",
       "       total_bc_limit  total_il_high_credit_limit  \n",
       "count    68817.000000                6.881700e+04  \n",
       "mean     29734.128558                5.572240e+04  \n",
       "std      26795.394232                5.095845e+04  \n",
       "min        100.000000                1.270000e+02  \n",
       "25%      11600.000000                2.288000e+04  \n",
       "50%      22100.000000                4.200000e+04  \n",
       "75%      39300.000000                7.249900e+04  \n",
       "max     509400.000000                1.426964e+06  \n",
       "\n",
       "[8 rows x 70 columns]"
      ]
     },
     "execution_count": 21,
     "metadata": {},
     "output_type": "execute_result"
    }
   ],
   "source": [
    "x.describe()"
   ]
  },
  {
   "cell_type": "code",
   "execution_count": 23,
   "metadata": {},
   "outputs": [
    {
     "data": {
      "text/plain": [
       "low_risk     68470\n",
       "high_risk      347\n",
       "Name: loan_status, dtype: int64"
      ]
     },
     "execution_count": 23,
     "metadata": {},
     "output_type": "execute_result"
    }
   ],
   "source": [
    "# Check the balance of the target values\n",
    "y.value_counts()"
   ]
  },
  {
   "cell_type": "code",
   "execution_count": 24,
   "metadata": {},
   "outputs": [
    {
     "data": {
      "text/plain": [
       "(51612, 81)"
      ]
     },
     "execution_count": 24,
     "metadata": {},
     "output_type": "execute_result"
    }
   ],
   "source": [
    "# Import the library I need to perform the train/test split \n",
    "from sklearn.model_selection import train_test_split\n",
    "\n",
    "# Split the X and y into X_train, X_test, y_train, y_test\n",
    "x_train, x_test, y_train, y_test= train_test_split(x_binary, y, random_state=1, stratify=y)\n",
    "\n",
    "# Display the shape of the x-train set\n",
    "x_train.shape"
   ]
  },
  {
   "cell_type": "markdown",
   "metadata": {},
   "source": [
    "### Part Three - Data Pre-Processing"
   ]
  },
  {
   "cell_type": "markdown",
   "metadata": {},
   "source": [
    "##### Scale the training and testing data using the ***StandardScaler*** from ***SciKit-Learn***. Remember that when scaling the data, you only scale the features data (*X_train* and *X_testing*)."
   ]
  },
  {
   "cell_type": "code",
   "execution_count": 25,
   "metadata": {},
   "outputs": [],
   "source": [
    "# Import the library needed to perform the scaler\n",
    "from sklearn.preprocessing import StandardScaler\n",
    "\n",
    "# Create an instance of standard scaler\n",
    "scaler = StandardScaler()"
   ]
  },
  {
   "cell_type": "code",
   "execution_count": 27,
   "metadata": {},
   "outputs": [],
   "source": [
    "# Fit the Standard Scaler with the training data - only train the test set\n",
    "x_scaler = scaler.fit(x_train)"
   ]
  },
  {
   "cell_type": "code",
   "execution_count": 31,
   "metadata": {},
   "outputs": [],
   "source": [
    "# Scale the training and testing data\n",
    "x_train_scaled = x_scaler.transform(x_train)\n",
    "x_test_scaled = x_scaler.transform(x_test)"
   ]
  },
  {
   "cell_type": "markdown",
   "metadata": {},
   "source": [
    "### Part Four - Ensemble Learners"
   ]
  },
  {
   "cell_type": "markdown",
   "metadata": {},
   "source": [
    "##### In this section, you will compare two ensemble algorithms to determine which algorithm results in the best performance. You will train a Balanced Random Forest Classifier and an Easy Ensemble classifier . For each algorithm, be sure to complete the folliowing steps:\n",
    "\n",
    "1. Train the model using the training data. \n",
    "2. Calculate the balanced accuracy score from sklearn.metrics.\n",
    "3. Display the confusion matrix from sklearn.metrics.\n",
    "4. Generate a classication report using the ***imbalanced_classification_report*** from imbalanced-learn.\n",
    "5. For the Balanced Random Forest Classifier only, print the feature importance sorted in descending order (most important feature to least important) along with the feature score\n"
   ]
  },
  {
   "cell_type": "markdown",
   "metadata": {},
   "source": [
    "#### Balanced Random Forest Classifier"
   ]
  },
  {
   "cell_type": "code",
   "execution_count": 32,
   "metadata": {},
   "outputs": [],
   "source": [
    "# Import the library needed for the RFC\n",
    "from sklearn.ensemble import RandomForestClassifier\n",
    "\n",
    "# Resample the training data with the BalancedRandomForestClassifier\n",
    "rfc_model = RandomForestClassifier(n_estimators=100, random_state=1)\n",
    "\n",
    "# Fit the model\n",
    "rfc_model = rfc_model.fit(x_train_scaled, y_train)"
   ]
  },
  {
   "cell_type": "code",
   "execution_count": 34,
   "metadata": {},
   "outputs": [
    {
     "name": "stdout",
     "output_type": "stream",
     "text": [
      " The Balanced Accuracy Score is : 0.6662869494099778\n"
     ]
    }
   ],
   "source": [
    "# Let the model make predictions\n",
    "rfc_y_predictions = rfc_model.predict(x_test_scaled)\n",
    "\n",
    "# Calculate the balanced accuracy score\n",
    "rfc_bas = balanced_accuracy_score(y_test, rfc_y_predictions)\n",
    "print(f\" The Balanced Accuracy Score is : {rfc_bas}\")"
   ]
  },
  {
   "cell_type": "code",
   "execution_count": 35,
   "metadata": {},
   "outputs": [
    {
     "data": {
      "text/html": [
       "<div>\n",
       "<style scoped>\n",
       "    .dataframe tbody tr th:only-of-type {\n",
       "        vertical-align: middle;\n",
       "    }\n",
       "\n",
       "    .dataframe tbody tr th {\n",
       "        vertical-align: top;\n",
       "    }\n",
       "\n",
       "    .dataframe thead th {\n",
       "        text-align: right;\n",
       "    }\n",
       "</style>\n",
       "<table border=\"1\" class=\"dataframe\">\n",
       "  <thead>\n",
       "    <tr style=\"text-align: right;\">\n",
       "      <th></th>\n",
       "      <th>Predicted 0</th>\n",
       "      <th>Predicted 1</th>\n",
       "    </tr>\n",
       "  </thead>\n",
       "  <tbody>\n",
       "    <tr>\n",
       "      <th>Actual 0</th>\n",
       "      <td>29</td>\n",
       "      <td>58</td>\n",
       "    </tr>\n",
       "    <tr>\n",
       "      <th>Actual 1</th>\n",
       "      <td>13</td>\n",
       "      <td>17105</td>\n",
       "    </tr>\n",
       "  </tbody>\n",
       "</table>\n",
       "</div>"
      ],
      "text/plain": [
       "          Predicted 0  Predicted 1\n",
       "Actual 0           29           58\n",
       "Actual 1           13        17105"
      ]
     },
     "metadata": {},
     "output_type": "display_data"
    }
   ],
   "source": [
    "# Create the confusion matrix\n",
    "rfc_confusion_matrix = confusion_matrix(y_test, rfc_y_predictions)\n",
    "\n",
    "# Save the data to a df \n",
    "rfc_confusion_matrix_df = pd.DataFrame(\n",
    "    rfc_confusion_matrix, index=[\"Actual 0\", \"Actual 1\"],\n",
    "    columns=[\"Predicted 0\", \"Predicted 1\"])\n",
    "\n",
    "# Display the confusion matrix results\n",
    "display(rfc_confusion_matrix_df)"
   ]
  },
  {
   "cell_type": "code",
   "execution_count": 36,
   "metadata": {},
   "outputs": [
    {
     "name": "stdout",
     "output_type": "stream",
     "text": [
      "This is the Classification Report:\n",
      "\n",
      "                   pre       rec       spe        f1       geo       iba       sup\n",
      "\n",
      "  high_risk       0.69      0.33      1.00      0.45      0.58      0.31        87\n",
      "   low_risk       1.00      1.00      0.33      1.00      0.58      0.36     17118\n",
      "\n",
      "avg / total       1.00      1.00      0.34      1.00      0.58      0.36     17205\n",
      "\n"
     ]
    }
   ],
   "source": [
    "# Print the imbalanced classification report\n",
    "print('This is the Classification Report:')\n",
    "...\n",
    "print(\"\")\n",
    "...\n",
    "print(classification_report_imbalanced(y_test, rfc_y_predictions))"
   ]
  },
  {
   "cell_type": "code",
   "execution_count": 57,
   "metadata": {},
   "outputs": [
    {
     "data": {
      "text/plain": [
       "[(0.07473152937005441, 'total_pymnt'),\n",
       " (0.06798914569455675, 'total_rec_prncp'),\n",
       " (0.06757798201480475, 'out_prncp'),\n",
       " (0.062377427139989866, 'initial_list_status'),\n",
       " (0.05874587198969456, 'out_prncp_inv'),\n",
       " (0.019902614170432657, 'bc_util'),\n",
       " (0.018092067662149207, 'total_acc'),\n",
       " (0.017414910104833602, 'inq_last_12m'),\n",
       " (0.01694012493225354, 'annual_inc'),\n",
       " (0.016567489739830955, 'bc_open_to_buy'),\n",
       " (0.016220021076255756, 'total_cu_tl'),\n",
       " (0.01599439539451493, 'total_bal_il'),\n",
       " (0.015834366180569732, 'installment'),\n",
       " (0.015763000270933702, 'pct_tl_nvr_dlq'),\n",
       " (0.015456438989875292, 'num_tl_op_past_12m'),\n",
       " (0.01468462665498181, 'collections_12_mths_ex_med'),\n",
       " (0.014565224467175994, 'revol_bal'),\n",
       " (0.014530285037317014, 'total_pymnt_inv'),\n",
       " (0.014330739356450985, 'inq_fi'),\n",
       " (0.014209851829314488, 'pub_rec_bankruptcies'),\n",
       " (0.01375222298689567, 'open_act_il'),\n",
       " (0.013705210118694128, 'percent_bc_gt_75'),\n",
       " (0.01362925956879834, 'home_ownership'),\n",
       " (0.013031025208187687, 'open_acc'),\n",
       " (0.012957094223550125, 'pub_rec'),\n",
       " (0.012453596825654863, 'open_il_12m'),\n",
       " (0.012275203154663772, 'int_rate'),\n",
       " (0.011912365462342924, 'il_util'),\n",
       " (0.011865657998188783, 'loan_amnt'),\n",
       " (0.011762554668262362, 'open_rv_12m'),\n",
       " (0.011685075105059726, 'num_bc_tl'),\n",
       " (0.011344171248815309, 'mo_sin_old_rev_tl_op'),\n",
       " (0.011046467786939013, 'chargeoff_within_12_mths'),\n",
       " (0.010607727253739112, 'open_acc_6m'),\n",
       " (0.010404134557161868, 'delinq_2yrs'),\n",
       " (0.010360960794108438, 'mths_since_recent_bc'),\n",
       " (0.010358280252844696, 'num_il_tl'),\n",
       " (0.010306705893382475, 'all_util'),\n",
       " (0.010278154151228808, 'num_bc_sats'),\n",
       " (0.010045597666026479, 'mo_sin_rcnt_rev_tl_op'),\n",
       " (0.009914306026046052, 'num_rev_tl_bal_gt_0'),\n",
       " (0.009837285854372222, 'num_accts_ever_120_pd'),\n",
       " (0.009635557087830126, 'mort_acc'),\n",
       " (0.009596793922610527, 'num_actv_bc_tl'),\n",
       " (0.00953242146827063, 'delinq_amnt'),\n",
       " (0.009200563928880015, 'num_actv_rev_tl'),\n",
       " (0.008908699303172552, 'max_bal_bc'),\n",
       " (0.008885541543211467, 'total_rev_hi_lim'),\n",
       " (0.008022557305811891, 'mths_since_rcnt_il'),\n",
       " (0.007968670107442065, 'tot_cur_bal'),\n",
       " (0.006978820337838221, 'mths_since_recent_inq'),\n",
       " (0.0069519713145116254, 'num_sats'),\n",
       " (0.006704664400658745, 'policy_code'),\n",
       " (0.006616852635013466, 'num_rev_accts'),\n",
       " (0.006600554410966309, 'mo_sin_old_il_acct'),\n",
       " (0.006170503110643537, 'application_type'),\n",
       " (0.006030548987879181, 'dti'),\n",
       " (0.005706368316946784, 'open_rv_24m'),\n",
       " (0.004959833791457829, 'tot_coll_amt'),\n",
       " (0.004785988849701259, 'open_il_24m'),\n",
       " (0.004497148342083132, 'verification_status'),\n",
       " (0.004474675484991225, 'last_pymnt_amnt'),\n",
       " (0.0037910194512747854, 'mo_sin_rcnt_tl'),\n",
       " (0.0031465301532624386, 'inq_last_6mths'),\n",
       " (0.002577141192419773, 'num_tl_90g_dpd_24m'),\n",
       " (0.0019379023351641226, 'tot_hi_cred_lim'),\n",
       " (0.0016283961857688392, 'num_op_rev_tl'),\n",
       " (0.0015023481277174444, 'total_bal_ex_mort'),\n",
       " (0.0013414775203501135, 'total_rec_int'),\n",
       " (0.0013297585023676933, 'total_il_high_credit_limit'),\n",
       " (0.0011849455043704015, 'total_bc_limit'),\n",
       " (0.000623600259140753, 'acc_open_past_24mths'),\n",
       " (0.0, 'total_rec_late_fee'),\n",
       " (0.0, 'avg_cur_bal')]"
      ]
     },
     "execution_count": 57,
     "metadata": {},
     "output_type": "execute_result"
    }
   ],
   "source": [
    "# Save the importances of the features\n",
    "importances = rfc_model.feature_importances_\n",
    "\n",
    "# List the features sorted in descending order by feature importance\n",
    "features = sorted(zip(importances, X.columns), reverse=True)\n",
    "features"
   ]
  },
  {
   "cell_type": "markdown",
   "metadata": {},
   "source": [
    "#### Easy Ensemble Classifier"
   ]
  },
  {
   "cell_type": "code",
   "execution_count": 39,
   "metadata": {},
   "outputs": [],
   "source": [
    "# Import the library needed for the classifier \n",
    "from imblearn.ensemble import EasyEnsembleClassifier\n",
    "\n",
    "# Train the Classifier\n",
    "eec_model = EasyEnsembleClassifier(n_estimators=100, random_state=1)\n",
    "\n",
    "# Fit the model \n",
    "eec_model = eec_model.fit(x_train_scaled, y_train)"
   ]
  },
  {
   "cell_type": "code",
   "execution_count": 45,
   "metadata": {},
   "outputs": [
    {
     "name": "stdout",
     "output_type": "stream",
     "text": [
      "The Balanced Accuracy Score is: 0.7504975605432476\n"
     ]
    }
   ],
   "source": [
    "# Let the model make predictions\n",
    "eec_y_predictions = eec_model.predict(x_test_scaled)\n",
    "\n",
    "# Calculate the balanced accuracy score\n",
    "eec_bas = balanced_accuracy_score(y_test, eec_y_predictions)\n",
    "\n",
    "# Display the BAS\n",
    "print(f\"The Balanced Accuracy Score is: {eec_bas}\")"
   ]
  },
  {
   "cell_type": "code",
   "execution_count": 41,
   "metadata": {},
   "outputs": [
    {
     "data": {
      "text/html": [
       "<div>\n",
       "<style scoped>\n",
       "    .dataframe tbody tr th:only-of-type {\n",
       "        vertical-align: middle;\n",
       "    }\n",
       "\n",
       "    .dataframe tbody tr th {\n",
       "        vertical-align: top;\n",
       "    }\n",
       "\n",
       "    .dataframe thead th {\n",
       "        text-align: right;\n",
       "    }\n",
       "</style>\n",
       "<table border=\"1\" class=\"dataframe\">\n",
       "  <thead>\n",
       "    <tr style=\"text-align: right;\">\n",
       "      <th></th>\n",
       "      <th>Predicted 0</th>\n",
       "      <th>Predicted 1</th>\n",
       "    </tr>\n",
       "  </thead>\n",
       "  <tbody>\n",
       "    <tr>\n",
       "      <th>Actual 0</th>\n",
       "      <td>62</td>\n",
       "      <td>25</td>\n",
       "    </tr>\n",
       "    <tr>\n",
       "      <th>Actual 1</th>\n",
       "      <td>3623</td>\n",
       "      <td>13495</td>\n",
       "    </tr>\n",
       "  </tbody>\n",
       "</table>\n",
       "</div>"
      ],
      "text/plain": [
       "          Predicted 0  Predicted 1\n",
       "Actual 0           62           25\n",
       "Actual 1         3623        13495"
      ]
     },
     "metadata": {},
     "output_type": "display_data"
    }
   ],
   "source": [
    "# Create the confusion matrix\n",
    "eec_confusion_matrix = confusion_matrix(y_test, eec_y_predictions)\n",
    "\n",
    "# Save the data to a df\n",
    "eec_confusion_matrix_df = pd.DataFrame(\n",
    "    eec_confusion_matrix, index=[\"Actual 0\", \"Actual 1\"],\n",
    "    columns=[\"Predicted 0\", \"Predicted 1\"])\n",
    "\n",
    "# Show the results\n",
    "display(eec_confusion_matrix_df)"
   ]
  },
  {
   "cell_type": "code",
   "execution_count": 53,
   "metadata": {},
   "outputs": [
    {
     "name": "stdout",
     "output_type": "stream",
     "text": [
      "This is the Classification Report:\n",
      "\n",
      "                   pre       rec       spe        f1       geo       iba       sup\n",
      "\n",
      "  high_risk       0.02      0.71      0.79      0.03      0.75      0.56        87\n",
      "   low_risk       1.00      0.79      0.71      0.88      0.75      0.57     17118\n",
      "\n",
      "avg / total       0.99      0.79      0.71      0.88      0.75      0.57     17205\n",
      "\n"
     ]
    }
   ],
   "source": [
    "# Show the Classification Report\n",
    "print(\"This is the Classification Report:\")\n",
    "...\n",
    "print(\"\")\n",
    "...\n",
    "print(classification_report_imbalanced(y_test, eec_y_predictions))"
   ]
  },
  {
   "cell_type": "markdown",
   "metadata": {},
   "source": [
    "### Part Five - Final Questions"
   ]
  },
  {
   "cell_type": "markdown",
   "metadata": {},
   "source": [
    "#### Which model had the best balanced accuracy score?"
   ]
  },
  {
   "cell_type": "code",
   "execution_count": 54,
   "metadata": {
    "jupyter": {
     "source_hidden": true
    },
    "tags": []
   },
   "outputs": [
    {
     "name": "stdout",
     "output_type": "stream",
     "text": [
      "These are the Balanced Accuracy Scores:\n",
      "\n",
      "The Balanced Random Forest Classifier had a BAS of: 0.6662869494099778\n",
      "The Easy Ensemble Classifier had a BAS of: 0.7504975605432476\n"
     ]
    }
   ],
   "source": [
    "# Hide the input cell\n",
    "{\n",
    "    \"tags\": [\n",
    "        \"hide-input\",\n",
    "    ]\n",
    "}\n",
    "\n",
    "# View the the BAS scores for the different models \n",
    "print(\"These are the Balanced Accuracy Scores:\")\n",
    "print(\"\")\n",
    "print(f\"The Balanced Random Forest Classifier had a BAS of: {rfc_bas}\")\n",
    "print(f\"The Easy Ensemble Classifier had a BAS of: {eec_bas}\")"
   ]
  },
  {
   "cell_type": "markdown",
   "metadata": {},
   "source": [
    "From the results I can tell that the **Easy Ensemble Classifier** had a higher BAS with a score of **0.7505**."
   ]
  },
  {
   "cell_type": "markdown",
   "metadata": {},
   "source": [
    "#### Which model had the best recall score?"
   ]
  },
  {
   "cell_type": "markdown",
   "metadata": {},
   "source": [
    "The ***Random Forest Classifier*** had the best recall score with a value of **1.0**. The opposition, *Easy Ensemble Classifier*, had a recall score of *0.79*. Both of these scores can be found in there Classification Reports in the row and column *avg/total* & *rec*, respecfully."
   ]
  },
  {
   "cell_type": "markdown",
   "metadata": {},
   "source": [
    "#### Which model had the best geographical mean score?"
   ]
  },
  {
   "cell_type": "markdown",
   "metadata": {},
   "source": [
    "The ***Easy Ensemble Classifier*** had the best recall score with a value of **0.75**. The opposition, *Random Forest Classifier*, had a recall score of *0.58*. Both of these scores can be found in there Classification Reports in the row and column *avg/total* & *geo*, respecfully."
   ]
  },
  {
   "cell_type": "markdown",
   "metadata": {},
   "source": [
    "#### What were the top three features?"
   ]
  },
  {
   "cell_type": "code",
   "execution_count": 62,
   "metadata": {
    "jupyter": {
     "source_hidden": true
    },
    "tags": []
   },
   "outputs": [
    {
     "data": {
      "text/plain": [
       "[(0.07473152937005441, 'total_pymnt'),\n",
       " (0.06798914569455675, 'total_rec_prncp'),\n",
       " (0.06757798201480475, 'out_prncp')]"
      ]
     },
     "execution_count": 62,
     "metadata": {},
     "output_type": "execute_result"
    }
   ],
   "source": [
    "# Hide the input cell\n",
    "{\n",
    "    \"tags\": [\n",
    "        \"hide-input\",\n",
    "    ]\n",
    "}\n",
    "\n",
    "# View the top three features\n",
    "features[0:3]"
   ]
  },
  {
   "cell_type": "markdown",
   "metadata": {},
   "source": [
    "Here I can see that the top three features were *Total Payment, *Total Recieved Principle (Priciple recieved to date)*, & *Outstanding Priciple (Remaining outstanding principle for total amount funded)*. I know these are the top three because it is the first three records of my sorted variable *features*."
   ]
  }
 ],
 "metadata": {
  "kernelspec": {
   "display_name": "Python 3 (ipykernel)",
   "language": "python",
   "name": "python3"
  },
  "language_info": {
   "codemirror_mode": {
    "name": "ipython",
    "version": 3
   },
   "file_extension": ".py",
   "mimetype": "text/x-python",
   "name": "python",
   "nbconvert_exporter": "python",
   "pygments_lexer": "ipython3",
   "version": "3.7.13"
  }
 },
 "nbformat": 4,
 "nbformat_minor": 4
}
